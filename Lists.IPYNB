{
 "cells": [
  {
   "cell_type": "code",
   "execution_count": 1,
   "metadata": {},
   "outputs": [
    {
     "name": "stdout",
     "output_type": "stream",
     "text": [
      "[1, 2, 3, 4, 5]\n"
     ]
    }
   ],
   "source": [
    "# store collections of data\n",
    "# Lists: 1. Mutable\n",
    "# 2. Ordered\n",
    "# 3. Allows duplicate elements"
   ]
  },
  {
   "cell_type": "code",
   "execution_count": 2,
   "metadata": {},
   "outputs": [
    {
     "data": {
      "text/plain": [
       "list"
      ]
     },
     "execution_count": 2,
     "metadata": {},
     "output_type": "execute_result"
    }
   ],
   "source": [
    "# create lists\n",
    "list1 = []\n",
    "list2 = list()\n",
    "type(list1)\n",
    "type(list2)"
   ]
  },
  {
   "cell_type": "code",
   "execution_count": 4,
   "metadata": {},
   "outputs": [
    {
     "data": {
      "text/plain": [
       "[8, 'y', 'b', 5, 'd', 'g', 7, True, None, 'Bangladesh']"
      ]
     },
     "execution_count": 4,
     "metadata": {},
     "output_type": "execute_result"
    }
   ],
   "source": [
    "list1 = [8,'y','b',5,'d','g',7, True, None, \"Bangladesh\"]\n",
    "list1"
   ]
  },
  {
   "cell_type": "code",
   "execution_count": null,
   "metadata": {},
   "outputs": [],
   "source": [
    "# length of list\n",
    "list1 = [1, 2, 3, 4, 5]\n",
    "length = len(list1)\n",
    "print(length)\n"
   ]
  },
  {
   "cell_type": "code",
   "execution_count": 5,
   "metadata": {},
   "outputs": [
    {
     "name": "stdout",
     "output_type": "stream",
     "text": [
      "3\n"
     ]
    }
   ],
   "source": [
    "# access lists iten/items\n",
    "my_list = [1, 2, 3, 4, 5]\n",
    "item = my_list[2]  # Accessing the third item in the list\n",
    "print(item)  # Output: 3\n"
   ]
  },
  {
   "cell_type": "code",
   "execution_count": 7,
   "metadata": {},
   "outputs": [
    {
     "data": {
      "text/plain": [
       "5"
      ]
     },
     "execution_count": 7,
     "metadata": {},
     "output_type": "execute_result"
    }
   ],
   "source": [
    "\n",
    "# Access the last element\n",
    "last_element = my_list[-1]\n",
    "last_element"
   ]
  },
  {
   "cell_type": "code",
   "execution_count": 9,
   "metadata": {},
   "outputs": [
    {
     "data": {
      "text/plain": [
       "[3, 4, 5]"
      ]
     },
     "execution_count": 9,
     "metadata": {},
     "output_type": "execute_result"
    }
   ],
   "source": [
    "# range of index\n",
    "my_list[2:6]"
   ]
  },
  {
   "cell_type": "code",
   "execution_count": 11,
   "metadata": {},
   "outputs": [
    {
     "data": {
      "text/plain": [
       "['March', 'April', 'May']"
      ]
     },
     "execution_count": 11,
     "metadata": {},
     "output_type": "execute_result"
    }
   ],
   "source": [
    "months = [\"January\", \"February\", \"March\", \"April\", \"May\", \"June\", \"July\"]\n",
    "days = [31, 28, 31, 30, 31, 30, 31]\n",
    "months[2:5]"
   ]
  },
  {
   "cell_type": "code",
   "execution_count": 13,
   "metadata": {},
   "outputs": [
    {
     "name": "stdout",
     "output_type": "stream",
     "text": [
      "['January', 'February', 'March', 'April', 'May', 'June', 'July', 31, 28, 31, 30, 31, 30, 31]\n"
     ]
    }
   ],
   "source": [
    "# concatename two list\n",
    "print(months + days)"
   ]
  },
  {
   "cell_type": "code",
   "execution_count": 14,
   "metadata": {},
   "outputs": [
    {
     "name": "stdout",
     "output_type": "stream",
     "text": [
      "True\n"
     ]
    }
   ],
   "source": [
    "# check if item exist\n",
    "print(\"February\" in months)"
   ]
  },
  {
   "cell_type": "code",
   "execution_count": 15,
   "metadata": {},
   "outputs": [
    {
     "data": {
      "text/plain": [
       "['January', 'February', 'March', 'April', 'May', 'June', 'July', 'August']"
      ]
     },
     "execution_count": 15,
     "metadata": {},
     "output_type": "execute_result"
    }
   ],
   "source": [
    "# append a month in months\n",
    "months.append(\"August\")\n",
    "months"
   ]
  },
  {
   "cell_type": "code",
   "execution_count": 20,
   "metadata": {},
   "outputs": [
    {
     "name": "stdout",
     "output_type": "stream",
     "text": [
      "['January', 'February', 'December', 'October', 'October', 'October', 'October', 'April', 'May', 'June', 'July', 'August']\n"
     ]
    }
   ],
   "source": [
    "# insert month to a specific index\n",
    "months[2] = \"December\"\n",
    "months.insert(3, \"October\")\n",
    "print(months)"
   ]
  },
  {
   "cell_type": "code",
   "execution_count": 22,
   "metadata": {},
   "outputs": [
    {
     "name": "stdout",
     "output_type": "stream",
     "text": [
      "['January', 'February', 'December', 'October', 'October', 'October', 'October', 'April', 'May', 'June', 'July', 'August', 'September', 'November', 'September', 'November']\n"
     ]
    }
   ],
   "source": [
    "new_months = [\"September\", \"November\"]\n",
    "months.extend(new_months) \n",
    "print(months)  "
   ]
  },
  {
   "cell_type": "code",
   "execution_count": 26,
   "metadata": {},
   "outputs": [
    {
     "data": {
      "text/plain": [
       "['January',\n",
       " 'February',\n",
       " 'December',\n",
       " 'April',\n",
       " 'May',\n",
       " 'June',\n",
       " 'July',\n",
       " 'August',\n",
       " 'September',\n",
       " 'November',\n",
       " 'September',\n",
       " 'November']"
      ]
     },
     "execution_count": 26,
     "metadata": {},
     "output_type": "execute_result"
    }
   ],
   "source": [
    "# remove item from list\n",
    "months.remove(\"October\")\n",
    "months"
   ]
  },
  {
   "cell_type": "code",
   "execution_count": 27,
   "metadata": {},
   "outputs": [
    {
     "data": {
      "text/plain": [
       "'November'"
      ]
     },
     "execution_count": 27,
     "metadata": {},
     "output_type": "execute_result"
    }
   ],
   "source": [
    "# pop wil remove from the last\n",
    "months.pop()\n",
    "# months.pop(6)"
   ]
  },
  {
   "cell_type": "code",
   "execution_count": 29,
   "metadata": {},
   "outputs": [
    {
     "data": {
      "text/plain": [
       "['January',\n",
       " 'February',\n",
       " 'December',\n",
       " 'April',\n",
       " 'May',\n",
       " 'August',\n",
       " 'September',\n",
       " 'November',\n",
       " 'September']"
      ]
     },
     "execution_count": 29,
     "metadata": {},
     "output_type": "execute_result"
    }
   ],
   "source": [
    "# del to remove specific element\n",
    "del months[5]\n",
    "months\n",
    "# del months\n",
    "# months.clear()"
   ]
  },
  {
   "cell_type": "code",
   "execution_count": 33,
   "metadata": {},
   "outputs": [
    {
     "data": {
      "text/plain": [
       "['February',\n",
       " 'December',\n",
       " 'April',\n",
       " 'May',\n",
       " 'August',\n",
       " 'September',\n",
       " 'November',\n",
       " 'September']"
      ]
     },
     "execution_count": 33,
     "metadata": {},
     "output_type": "execute_result"
    }
   ],
   "source": [
    "# months.remove(\"January\")\n",
    "months"
   ]
  },
  {
   "cell_type": "markdown",
   "metadata": {},
   "source": [
    "`List Comprehension`"
   ]
  },
  {
   "cell_type": "code",
   "execution_count": 37,
   "metadata": {},
   "outputs": [
    {
     "name": "stdout",
     "output_type": "stream",
     "text": [
      "[1, 4, 9, 16, 25]\n",
      "[1, 4, 9, 16, 25]\n"
     ]
    }
   ],
   "source": [
    "# square number from 1 to 5 \n",
    "square_list = []\n",
    "\n",
    "for i in range(1, 6):\n",
    "    square = i ** 2\n",
    "    square_list.append(square)\n",
    "print(square_list)\n",
    "\n",
    "# square using list comprehension\n",
    "squares = [i ** 2 for i in range(1, 6)]\n",
    "print(squares)"
   ]
  },
  {
   "cell_type": "code",
   "execution_count": 38,
   "metadata": {},
   "outputs": [
    {
     "name": "stdout",
     "output_type": "stream",
     "text": [
      "[18, 20, 22, 24, 26, 28, 30]\n"
     ]
    }
   ],
   "source": [
    "# check a person is above 18 or not\n",
    "ages = [12, 14, 18, 20, 22, 24, 26, 28, 30]\n",
    "adults = [age for age in ages if age >= 18]\n",
    "print(adults)"
   ]
  },
  {
   "cell_type": "markdown",
   "metadata": {},
   "source": [
    "`Sorting List`"
   ]
  },
  {
   "cell_type": "code",
   "execution_count": 44,
   "metadata": {},
   "outputs": [
    {
     "name": "stdout",
     "output_type": "stream",
     "text": [
      "[1, 2, 5, 8, 9]\n",
      "[1, 2, 5, 8, 9]\n"
     ]
    }
   ],
   "source": [
    "# sorting a list\n",
    "my_list = [5, 2, 8, 1, 9]\n",
    "my_list.sort()\n",
    "print(my_list)\n",
    "sorted_list = sorted(my_list)\n",
    "print(sorted_list)"
   ]
  },
  {
   "cell_type": "code",
   "execution_count": 45,
   "metadata": {},
   "outputs": [
    {
     "name": "stdout",
     "output_type": "stream",
     "text": [
      "!dlroW ,olleH\n"
     ]
    }
   ],
   "source": [
    "# reverse a list/string\n",
    "string = \"Hello, World!\"\n",
    "reversed_string = string[::-1]\n",
    "print(reversed_string)"
   ]
  },
  {
   "cell_type": "code",
   "execution_count": 46,
   "metadata": {},
   "outputs": [
    {
     "name": "stdout",
     "output_type": "stream",
     "text": [
      "!dlroW ,olleH\n",
      "['r', 'o', 'o', 'l', 'l', 'l', 'e', 'd', 'W', 'H', ',', '!', ' ']\n"
     ]
    }
   ],
   "source": [
    "# sort Descending order\n",
    "# reverse a strin\n",
    "string = \"Hello, World!\"\n",
    "reversed_string = string[::-1]\n",
    "print(reversed_string)\n",
    "\n",
    "# sort in descending order\n",
    "sorted_string = sorted(string, reverse=True)\n",
    "print(sorted_string)\n"
   ]
  },
  {
   "cell_type": "code",
   "execution_count": 58,
   "metadata": {},
   "outputs": [
    {
     "name": "stdout",
     "output_type": "stream",
     "text": [
      "[8, 7, 6, 5]\n",
      "[8, 7, 6, 5]\n",
      "[9, 7, 6, 5]\n",
      "[9, 7, 6, 5]\n",
      "140122435308736\n",
      "140122435308736\n"
     ]
    }
   ],
   "source": [
    "list1 = [8,7,6,5]\n",
    "list2 = list1\n",
    "\n",
    "print(list1)\n",
    "print(list2)\n",
    "\n",
    "list1[0] = 9\n",
    "\n",
    "print(list1)\n",
    "print(list2)\n",
    "\n",
    "print(id(list1))\n",
    "print(id(list2))"
   ]
  },
  {
   "cell_type": "code",
   "execution_count": 50,
   "metadata": {},
   "outputs": [
    {
     "name": "stdout",
     "output_type": "stream",
     "text": [
      "[3, 1, 5, 2, 8]\n"
     ]
    }
   ],
   "source": [
    "# customize sorting using functio\n",
    "# Define a list of elements\n",
    "my_list = [5, 2, 8, 1, 3]\n",
    "\n",
    "# Define a custom sorting function\n",
    "def custom_sort(element):\n",
    "    return element % 3\n",
    "\n",
    "# Sort the list using the custom sorting function\n",
    "my_list.sort(key=custom_sort)\n",
    "\n",
    "print(my_list)"
   ]
  },
  {
   "cell_type": "code",
   "execution_count": 56,
   "metadata": {},
   "outputs": [
    {
     "name": "stdout",
     "output_type": "stream",
     "text": [
      "[1, 2, 3, 4, 5]\n",
      "[1, 2, 3, 4, 5]\n",
      "[1, 2, 3, 4, 5]\n",
      "[1, 2, 3, 20, 5]\n",
      "[1, 2, 3, 4, 8]\n",
      "[1, 2, 3, 20, 5]\n",
      "140122435320896\n",
      "140122435291264\n"
     ]
    }
   ],
   "source": [
    "# shallow copy in list\n",
    "original = [1, 2, 3, 4, 5]\n",
    "shallow_copy = original.copy()\n",
    "\n",
    "print(original)\n",
    "print(shallow_copy)\n",
    "\n",
    "shallow_copy[3] = 20\n",
    "\n",
    "print(original)\n",
    "print(shallow_copy)\n",
    "\n",
    "original[4] = 8\n",
    "print(original)\n",
    "print(shallow_copy)\n",
    "\n",
    "# id() function returns the identity of an object\n",
    "print(id(original))\n",
    "print(id(shallow_copy))"
   ]
  },
  {
   "cell_type": "code",
   "execution_count": 52,
   "metadata": {},
   "outputs": [
    {
     "name": "stdout",
     "output_type": "stream",
     "text": [
      "[1, 2, 3, 4, 5]\n",
      "[1, 2, 3, 4, 5]\n",
      "140122433691072\n",
      "140122433685632\n"
     ]
    }
   ],
   "source": [
    "# deep copy in list\n",
    "import copy\n",
    "\n",
    "original = [1, 2, 3, 4, 5]\n",
    "deep_copy = copy.deepcopy(original)\n",
    "\n",
    "print(original)\n",
    "print(deep_copy)\n",
    "\n",
    "print(id(original))\n",
    "print(id(deep_copy))"
   ]
  },
  {
   "cell_type": "code",
   "execution_count": null,
   "metadata": {},
   "outputs": [],
   "source": []
  }
 ],
 "metadata": {
  "kernelspec": {
   "display_name": "Python 3",
   "language": "python",
   "name": "python3"
  },
  "language_info": {
   "codemirror_mode": {
    "name": "ipython",
    "version": 3
   },
   "file_extension": ".py",
   "mimetype": "text/x-python",
   "name": "python",
   "nbconvert_exporter": "python",
   "pygments_lexer": "ipython3",
   "version": "3.10.12"
  }
 },
 "nbformat": 4,
 "nbformat_minor": 2
}

{
 "cells": [
  {
   "cell_type": "markdown",
   "metadata": {},
   "source": [
    "### Lists\n"
   ]
  },
  {
   "cell_type": "code",
   "execution_count": 1,
   "metadata": {},
   "outputs": [
    {
     "name": "stdout",
     "output_type": "stream",
     "text": [
      "['banana', 'cherry', 'blueberry']\n"
     ]
    }
   ],
   "source": [
    "# lists are ordered, mutable, allow duplicate elements, and allow multiple data types\n",
    "mylist = ['banana', 'cherry', 'blueberry']\n",
    "print(mylist)"
   ]
  },
  {
   "cell_type": "code",
   "execution_count": 2,
   "metadata": {},
   "outputs": [
    {
     "data": {
      "text/plain": [
       "['banana', 'cherry', 'blueberry', 'apple']"
      ]
     },
     "execution_count": 2,
     "metadata": {},
     "output_type": "execute_result"
    }
   ],
   "source": [
    "# add a item in lists\n",
    "mylist.append('apple')\n",
    "mylist"
   ]
  },
  {
   "cell_type": "code",
   "execution_count": 3,
   "metadata": {},
   "outputs": [
    {
     "name": "stdout",
     "output_type": "stream",
     "text": [
      "['orange', 'banana', 'cherry', 'blueberry', 'apple']\n"
     ]
    }
   ],
   "source": [
    "# insert a new item in the beginning\n",
    "mylist.insert(0, 'orange')\n",
    "print(mylist)\n"
   ]
  },
  {
   "cell_type": "code",
   "execution_count": 4,
   "metadata": {},
   "outputs": [
    {
     "data": {
      "text/plain": [
       "'apple'"
      ]
     },
     "execution_count": 4,
     "metadata": {},
     "output_type": "execute_result"
    }
   ],
   "source": [
    "# remove items from the end of the list\n",
    "mylist.pop()"
   ]
  },
  {
   "cell_type": "code",
   "execution_count": null,
   "metadata": {},
   "outputs": [],
   "source": [
    "#"
   ]
  },
  {
   "cell_type": "markdown",
   "metadata": {},
   "source": [
    "### Collections"
   ]
  },
  {
   "cell_type": "code",
   "execution_count": 7,
   "metadata": {},
   "outputs": [
    {
     "name": "stdout",
     "output_type": "stream",
     "text": [
      "Counter({'a': 3, 'n': 2, 'B': 1})\n",
      "[('a', 3)]\n"
     ]
    }
   ],
   "source": [
    "from collections import Counter\n",
    "\n",
    "name = \"Banana\"\n",
    "my_counter = Counter(name)\n",
    "print(my_counter)\n",
    "print(my_counter.most_common(1))"
   ]
  },
  {
   "cell_type": "code",
   "execution_count": 8,
   "metadata": {},
   "outputs": [
    {
     "name": "stdout",
     "output_type": "stream",
     "text": [
      "Person(name='John', age=25)\n",
      "Person(name='Jane', age=26)\n"
     ]
    }
   ],
   "source": [
    "# named tuple in collection \n",
    "from collections import namedtuple\n",
    "\n",
    "\n",
    "# create a namedtuple\n",
    "Person = namedtuple('Person', ['name', 'age'])\n",
    "\n",
    "p1 = Person('John', 25)\n",
    "p2 = Person('Jane', 26)\n",
    "\n",
    "print(p1)\n",
    "print(p2)\n"
   ]
  },
  {
   "cell_type": "code",
   "execution_count": 16,
   "metadata": {},
   "outputs": [
    {
     "name": "stdout",
     "output_type": "stream",
     "text": [
      "OrderedDict([('a', 1), ('b', 2), ('c', 3), ('d', 4), ('e', 5), ('f', 6)])\n",
      "deque([1, 2, 3])\n",
      "deque([0, 1, 2, 3])\n",
      "deque([0, 1, 2])\n",
      "deque([1, 2])\n",
      "deque([6, 5, 4, 1, 2])\n",
      "deque([6, 5, 4, 1, 2, 7, 8, 9])\n",
      "deque([7, 8, 9, 6, 5, 4, 1, 2])\n",
      "deque([])\n"
     ]
    }
   ],
   "source": [
    "# orderdict in order to maintain the order of insertion\n",
    "from collections import OrderedDict\n",
    "\n",
    "orderdict = OrderedDict()\n",
    "orderdict['a'] = 1\n",
    "orderdict['b'] = 2\n",
    "orderdict['c'] = 3\n",
    "orderdict['d'] = 4\n",
    "orderdict['e'] = 5\n",
    "orderdict['f'] = 6\n",
    "\n",
    "print(orderdict)\n",
    "\n",
    "# deque in collection\n",
    "from collections import deque\n",
    "\n",
    "d = deque()\n",
    "d.append(1)\n",
    "d.append(2)\n",
    "d.append(3)\n",
    "\n",
    "print(d)\n",
    "\n",
    "d.appendleft(0)\n",
    "print(d)\n",
    "\n",
    "d.pop()\n",
    "print(d)\n",
    "\n",
    "d.popleft()\n",
    "print(d)\n",
    "\n",
    "d.extendleft([4, 5, 6])\n",
    "print(d)\n",
    "\n",
    "d.extend([7, 8, 9])\n",
    "print(d)\n",
    "\n",
    "d.rotate(3)\n",
    "print(d)\n",
    "\n",
    "\n",
    "d.clear()\n",
    "print(d)\n",
    "\n",
    "\n"
   ]
  },
  {
   "cell_type": "code",
   "execution_count": 15,
   "metadata": {},
   "outputs": [
    {
     "name": "stdout",
     "output_type": "stream",
     "text": [
      "defaultdict(<class 'list'>, {'a': [1, 2, 3]})\n"
     ]
    }
   ],
   "source": [
    "# defaultdict in a dictionary\n",
    "\n",
    "from collections import defaultdict\n",
    "\n",
    "d = defaultdict(list)\n",
    "d['a'].append(1)\n",
    "d['a'].append(2)\n",
    "d['a'].append(3)\n",
    "\n",
    "print(d)\n"
   ]
  },
  {
   "cell_type": "markdown",
   "metadata": {},
   "source": [
    "### Itertools"
   ]
  },
  {
   "cell_type": "code",
   "execution_count": 33,
   "metadata": {},
   "outputs": [
    {
     "name": "stdout",
     "output_type": "stream",
     "text": [
      "[(1, 4), (1, 5), (1, 6), (2, 4), (2, 5), (2, 6), (3, 4), (3, 5), (3, 6)]\n",
      "[(1, 2, 3), (1, 3, 2), (2, 1, 3), (2, 3, 1), (3, 1, 2), (3, 2, 1)]\n",
      "[(1, 2), (1, 3), (2, 3)]\n",
      "[(1, 1), (1, 2), (1, 3), (2, 2), (2, 3), (3, 3)]\n",
      "Counter({1: 3, 2: 3, 3: 3, 4: 3, 5: 3, 6: 3, 7: 3, 8: 3, 9: 3, 10: 3, 11: 1})\n",
      "[1, 3, 6, 10, 15]\n",
      "[1, 2, 6, 24, 120]\n",
      "False [1, 2]\n",
      "True [4, 8, 7]\n",
      "False [3]\n",
      "True [4, 5]\n"
     ]
    }
   ],
   "source": [
    "from itertools import product, permutations, combinations, combinations_with_replacement, accumulate, groupby\n",
    "from collections import Counter\n",
    "\n",
    "\n",
    "# product\n",
    "print(list(product([1, 2, 3], [4, 5, 6])))\n",
    "\n",
    "# permutations\n",
    "print(list(permutations([1, 2, 3])))\n",
    "\n",
    "# combinations\n",
    "print(list(combinations([1, 2, 3], 2)))\n",
    "\n",
    "# combinations_with_replacement\n",
    "print(list(combinations_with_replacement([1, 2, 3], 2)))\n",
    "\n",
    "# Counter\n",
    "print(Counter([1, 1, 2, 2, 2, 3, 3, 3, 4, 4, 4, 5, 5, 5, 6, 6, 6, 7, 7, 7, 8, 8, 8, 9, 9, 9, 10, 10, 10, 11, 1]))\n",
    "\n",
    "# accumulate\n",
    "print(list(accumulate([1, 2, 3, 4, 5])))\n",
    "import operator\n",
    "print(list(accumulate([1, 2, 3, 4, 5], operator.mul)))\n",
    "\n",
    "# groupby\n",
    "\n",
    "\n",
    "group_obj =  groupby([1, 2, 4, 8, 7, 3, 4, 5], lambda x: x > 3)\n",
    "\n",
    "for key, value in group_obj:\n",
    "    print(key, list(value))\n",
    "\n"
   ]
  },
  {
   "cell_type": "markdown",
   "metadata": {},
   "source": [
    "### Exceptions"
   ]
  },
  {
   "cell_type": "code",
   "execution_count": 4,
   "metadata": {},
   "outputs": [
    {
     "name": "stdout",
     "output_type": "stream",
     "text": [
      "Error:  division by zero\n",
      "Error:  'age'\n"
     ]
    },
    {
     "ename": "AssertionError",
     "evalue": "Age cannot be less than zero",
     "output_type": "error",
     "traceback": [
      "\u001b[0;31m---------------------------------------------------------------------------\u001b[0m",
      "\u001b[0;31mAssertionError\u001b[0m                            Traceback (most recent call last)",
      "\u001b[1;32m/home/ananta/Desktop/Introduction-to-Python/Intermediate Python.ipynb Cell 15\u001b[0m in \u001b[0;36m<cell line: 19>\u001b[0;34m()\u001b[0m\n\u001b[1;32m     <a href='vscode-notebook-cell:/home/ananta/Desktop/Introduction-to-Python/Intermediate%20Python.ipynb#X20sZmlsZQ%3D%3D?line=15'>16</a>\u001b[0m \u001b[39m# assertion error handling\u001b[39;00m\n\u001b[1;32m     <a href='vscode-notebook-cell:/home/ananta/Desktop/Introduction-to-Python/Intermediate%20Python.ipynb#X20sZmlsZQ%3D%3D?line=17'>18</a>\u001b[0m age \u001b[39m=\u001b[39m \u001b[39m-\u001b[39m\u001b[39m20\u001b[39m\n\u001b[0;32m---> <a href='vscode-notebook-cell:/home/ananta/Desktop/Introduction-to-Python/Intermediate%20Python.ipynb#X20sZmlsZQ%3D%3D?line=18'>19</a>\u001b[0m \u001b[39massert\u001b[39;00m age \u001b[39m>\u001b[39m\u001b[39m=\u001b[39m \u001b[39m0\u001b[39m, \u001b[39m\"\u001b[39m\u001b[39mAge cannot be less than zero\u001b[39m\u001b[39m\"\u001b[39m\n",
      "\u001b[0;31mAssertionError\u001b[0m: Age cannot be less than zero"
     ]
    }
   ],
   "source": [
    "# Zero Division error handling\n",
    "\n",
    "try:\n",
    "    5/0\n",
    "except ZeroDivisionError as e:\n",
    "    print(\"Error: \", e)\n",
    "    \n",
    "# Key error handling\n",
    "\n",
    "d = {'name': 'Max'}\n",
    "try:\n",
    "    print(d['age'])\n",
    "except KeyError as e:\n",
    "    print(\"Error: \", e)\n",
    "    \n",
    "# assertion error handling\n",
    "\n",
    "age = -20\n",
    "assert age >= 0, \"Age cannot be less than zero\""
   ]
  },
  {
   "cell_type": "code",
   "execution_count": 6,
   "metadata": {},
   "outputs": [
    {
     "name": "stdout",
     "output_type": "stream",
     "text": [
      "Error:  division by zero\n",
      "Cleaning up...\n"
     ]
    }
   ],
   "source": [
    "# multiple exception handling\n",
    "try:\n",
    "    a = 5/0\n",
    "    b = a + 4\n",
    "except ZeroDivisionError as e:\n",
    "    print(\"Error: \", e)\n",
    "except TypeError as e:\n",
    "    print(\"Error: \", e)\n",
    "else:\n",
    "    print(\"Everything is fine\")\n",
    "finally:\n",
    "    print(\"Cleaning up...\")"
   ]
  },
  {
   "cell_type": "code",
   "execution_count": 7,
   "metadata": {},
   "outputs": [
    {
     "ename": "CustomException",
     "evalue": "Custom Exception",
     "output_type": "error",
     "traceback": [
      "\u001b[0;31m---------------------------------------------------------------------------\u001b[0m",
      "\u001b[0;31mCustomException\u001b[0m                           Traceback (most recent call last)",
      "\u001b[1;32m/home/ananta/Desktop/Introduction-to-Python/Intermediate Python.ipynb Cell 17\u001b[0m in \u001b[0;36m<cell line: 8>\u001b[0;34m()\u001b[0m\n\u001b[1;32m      <a href='vscode-notebook-cell:/home/ananta/Desktop/Introduction-to-Python/Intermediate%20Python.ipynb#X22sZmlsZQ%3D%3D?line=4'>5</a>\u001b[0m \u001b[39mdef\u001b[39;00m  \u001b[39mraise_exception\u001b[39m():\n\u001b[1;32m      <a href='vscode-notebook-cell:/home/ananta/Desktop/Introduction-to-Python/Intermediate%20Python.ipynb#X22sZmlsZQ%3D%3D?line=5'>6</a>\u001b[0m     \u001b[39mraise\u001b[39;00m CustomException(\u001b[39m\"\u001b[39m\u001b[39mCustom Exception\u001b[39m\u001b[39m\"\u001b[39m)\n\u001b[0;32m----> <a href='vscode-notebook-cell:/home/ananta/Desktop/Introduction-to-Python/Intermediate%20Python.ipynb#X22sZmlsZQ%3D%3D?line=7'>8</a>\u001b[0m raise_exception()\n",
      "\u001b[1;32m/home/ananta/Desktop/Introduction-to-Python/Intermediate Python.ipynb Cell 17\u001b[0m in \u001b[0;36mraise_exception\u001b[0;34m()\u001b[0m\n\u001b[1;32m      <a href='vscode-notebook-cell:/home/ananta/Desktop/Introduction-to-Python/Intermediate%20Python.ipynb#X22sZmlsZQ%3D%3D?line=4'>5</a>\u001b[0m \u001b[39mdef\u001b[39;00m  \u001b[39mraise_exception\u001b[39m():\n\u001b[0;32m----> <a href='vscode-notebook-cell:/home/ananta/Desktop/Introduction-to-Python/Intermediate%20Python.ipynb#X22sZmlsZQ%3D%3D?line=5'>6</a>\u001b[0m     \u001b[39mraise\u001b[39;00m CustomException(\u001b[39m\"\u001b[39m\u001b[39mCustom Exception\u001b[39m\u001b[39m\"\u001b[39m)\n",
      "\u001b[0;31mCustomException\u001b[0m: Custom Exception"
     ]
    }
   ],
   "source": [
    "# create a custom exception\n",
    "class CustomException(Exception):\n",
    "    pass\n",
    "\n",
    "def  raise_exception():\n",
    "    raise CustomException(\"Custom Exception\")\n",
    "\n",
    "raise_exception()"
   ]
  },
  {
   "cell_type": "markdown",
   "metadata": {},
   "source": [
    "### JSON  "
   ]
  },
  {
   "cell_type": "code",
   "execution_count": 1,
   "metadata": {},
   "outputs": [],
   "source": [
    "import json\n"
   ]
  },
  {
   "cell_type": "code",
   "execution_count": 2,
   "metadata": {},
   "outputs": [
    {
     "name": "stdout",
     "output_type": "stream",
     "text": [
      "{\"name\": \"John Doe\", \"age\": 25, \"address\": {\"street\": \"123 Main St\", \"city\": \"New York\", \"state\": \"NY\", \"zip\": 10001}}\n"
     ]
    }
   ],
   "source": [
    "import json\n",
    "person = {\n",
    "  \"name\": \"John Doe\",\n",
    "  \"age\": 25,\n",
    "  \"address\": {\n",
    "    \"street\": \"123 Main St\",\n",
    "    \"city\": \"New York\",\n",
    "    \"state\": \"NY\",\n",
    "    \"zip\": 10001\n",
    "  }\n",
    "}\n",
    "\n",
    "\n",
    "personJSON = json.dumps(person)\n",
    "print(personJSON)"
   ]
  },
  {
   "cell_type": "code",
   "execution_count": 5,
   "metadata": {},
   "outputs": [],
   "source": [
    "# create json using context manager\n",
    "with open('test.json', 'w') as f:\n",
    "    json.dump(person, f)"
   ]
  },
  {
   "cell_type": "code",
   "execution_count": 9,
   "metadata": {},
   "outputs": [
    {
     "name": "stdout",
     "output_type": "stream",
     "text": [
      "{'name': 'John Doe', 'age': 25, 'address': {'street': '123 Main St', 'city': 'New York', 'state': 'NY', 'zip': 10001}}\n",
      "{'name': 'John Doe', 'age': 25, 'address': {'street': '123 Main St', 'city': 'New York', 'state': 'NY', 'zip': 10001}}\n"
     ]
    }
   ],
   "source": [
    "# load a json data\n",
    "data = json.loads(personJSON)\n",
    "print(data)\n",
    "\n",
    "with open('test.json') as f:\n",
    "    data = json.load(f)\n",
    "    print(data)\n"
   ]
  },
  {
   "cell_type": "markdown",
   "metadata": {},
   "source": [
    "### Decorators"
   ]
  },
  {
   "cell_type": "markdown",
   "metadata": {},
   "source": [
    "### Generator"
   ]
  },
  {
   "cell_type": "code",
   "execution_count": 11,
   "metadata": {},
   "outputs": [
    {
     "name": "stdout",
     "output_type": "stream",
     "text": [
      "1\n",
      "2\n",
      "3\n",
      "This is printed first\n",
      "1\n"
     ]
    }
   ],
   "source": [
    "def mygenerator():\n",
    "    yield 1\n",
    "    yield 2\n",
    "    yield 3\n",
    "    yield 4\n",
    "\n",
    "\n",
    "def mygenerator2():\n",
    "    n = 1\n",
    "    print(\"This is printed first\")\n",
    "    yield n\n",
    "\n",
    "\n",
    "g1 = mygenerator()\n",
    "g2 = mygenerator2()\n",
    "\n",
    "print(next(g1))\n",
    "print(next(g1))\n",
    "print(next(g1))\n",
    "\n",
    "for item in g2:\n",
    "    print(item)"
   ]
  },
  {
   "cell_type": "code",
   "execution_count": 13,
   "metadata": {},
   "outputs": [
    {
     "name": "stdout",
     "output_type": "stream",
     "text": [
      "104\n",
      "920\n"
     ]
    }
   ],
   "source": [
    "import sys\n",
    "\n",
    "# size of generator and list objects\n",
    "def generator(n):\n",
    "    num = 0\n",
    "    while num < n:\n",
    "        yield num\n",
    "        num += 1\n",
    "\n",
    "def list_object(n):\n",
    "    list_ = []\n",
    "    for num in range(n):\n",
    "        list_.append(num)\n",
    "    return list_\n",
    "\n",
    "\n",
    "print(sys.getsizeof(generator(100)))\n",
    "print(sys.getsizeof(list_object(100)))"
   ]
  },
  {
   "cell_type": "code",
   "execution_count": 15,
   "metadata": {},
   "outputs": [
    {
     "name": "stdout",
     "output_type": "stream",
     "text": [
      "0\n",
      "1\n",
      "1\n",
      "2\n",
      "3\n",
      "5\n",
      "8\n",
      "13\n",
      "21\n",
      "34\n"
     ]
    }
   ],
   "source": [
    "# fibonacci series using generator\n",
    "\n",
    "def fibonacci(x):\n",
    "    a, b = 0, 1\n",
    "    for i in range(x):\n",
    "        yield a\n",
    "        a, b = b, a + b\n",
    "    return a\n",
    "\n",
    "for i in fibonacci(10):\n",
    "    print(i)"
   ]
  },
  {
   "cell_type": "code",
   "execution_count": null,
   "metadata": {},
   "outputs": [],
   "source": []
  }
 ],
 "metadata": {
  "kernelspec": {
   "display_name": "Python 3",
   "language": "python",
   "name": "python3"
  },
  "language_info": {
   "codemirror_mode": {
    "name": "ipython",
    "version": 3
   },
   "file_extension": ".py",
   "mimetype": "text/x-python",
   "name": "python",
   "nbconvert_exporter": "python",
   "pygments_lexer": "ipython3",
   "version": "3.10.12"
  },
  "orig_nbformat": 4
 },
 "nbformat": 4,
 "nbformat_minor": 2
}

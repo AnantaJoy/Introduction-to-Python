{
 "cells": [
  {
   "cell_type": "markdown",
   "metadata": {},
   "source": [
    "\n",
    "### Exercise: Tuples\n",
    "\n",
    "1. **Tuple Creation:**\n",
    "   - Create a tuple named `colors` with the names of three different colors. Print the tuple.\n",
    "\n",
    "2. **Tuple Indexing:**\n",
    "   - Declare a tuple `fruits` with at least 4 fruit names. Print the first, second, and last elements of the tuple.\n",
    "\n",
    "3. **Tuple Concatenation:**\n",
    "   - Create two tuples, `tuple1` and `tuple2`, each containing at least 3 items. Concatenate the two tuples and print the result.\n",
    "\n",
    "4. **Tuple Unpacking:**\n",
    "   - Create a tuple with your first name, last name, and age. Unpack the tuple into three variables and print them.\n",
    "\n",
    "5. **Immutable Nature:**\n",
    "   - Attempt to modify an element within an existing tuple. Explain the error that occurs.\n",
    "\n",
    "6. **Nested Tuples:**\n",
    "   - Create a tuple named `nested_tuple` with two nested tuples. Access and print an individual element from each nested tuple.\n",
    "\n",
    "7. **Tuple Conversion:**\n",
    "   - Convert a list of integers to a tuple and print the result.\n",
    "\n",
    "8. **Tuple Operations:**\n",
    "   - Given two tuples, `tuple_a` and `tuple_b`, create a new tuple that contains elements from both tuples. Ensure there are no duplicate elements in the new tuple.\n",
    "\n",
    "9. **Tuple Slicing:**\n",
    "   - Declare a tuple `numbers` with at least 5 numeric values. Print a slice of the tuple, including the third and fourth elements.\n",
    "\n",
    "10. **Tuple Functions:**\n",
    "    - Create a tuple of mixed data types (integers, strings, and floats). Use functions like `len()`, `min()`, and `max()` to obtain various information about the tuple.\n",
    "\n"
   ]
  },
  {
   "cell_type": "markdown",
   "metadata": {},
   "source": []
  }
 ],
 "metadata": {
  "language_info": {
   "name": "python"
  }
 },
 "nbformat": 4,
 "nbformat_minor": 2
}

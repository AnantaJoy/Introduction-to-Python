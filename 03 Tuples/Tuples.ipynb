{
 "cells": [
  {
   "cell_type": "code",
   "execution_count": 1,
   "metadata": {},
   "outputs": [
    {
     "data": {
      "text/plain": [
       "tuple"
      ]
     },
     "execution_count": 1,
     "metadata": {},
     "output_type": "execute_result"
    }
   ],
   "source": [
    "# Tuple are 1. Ordered 2. Immutable 3. Allow duplicates 4. \n",
    "# Tuples are created with round brackets\n",
    "# Tuples are immutable\n",
    " \n",
    "my_tuple = ()\n",
    "my_tuple = tuple()\n",
    "type(my_tuple)"
   ]
  },
  {
   "cell_type": "code",
   "execution_count": 2,
   "metadata": {},
   "outputs": [
    {
     "name": "stdout",
     "output_type": "stream",
     "text": [
      "('Dhaka', 'Rajshahi', 'Sylhet', 'Khulna')\n"
     ]
    }
   ],
   "source": [
    "division = ('Dhaka', 'Rajshahi', \"Sylhet\", \"Khulna\")\n",
    "print(division)"
   ]
  },
  {
   "cell_type": "code",
   "execution_count": 4,
   "metadata": {},
   "outputs": [
    {
     "name": "stdout",
     "output_type": "stream",
     "text": [
      "4\n"
     ]
    }
   ],
   "source": [
    "# length of tuple\n",
    "length = len(my_tuple)\n",
    "print(length)"
   ]
  },
  {
   "cell_type": "code",
   "execution_count": 6,
   "metadata": {},
   "outputs": [
    {
     "name": "stdout",
     "output_type": "stream",
     "text": [
      "<class 'tuple'>\n",
      "<class 'tuple'>\n",
      "<class 'tuple'>\n",
      "<class 'int'>\n"
     ]
    }
   ],
   "source": [
    "# tuple and not tuple\n",
    "num1 = 52,22\n",
    "num2 = (52,)\n",
    "num3 = tuple((65,86))\n",
    "num4 = (45)\n",
    "\n",
    "print(type(num1))\n",
    "print(type(num2))\n",
    "print(type(num3))\n",
    "print(type(num4))"
   ]
  },
  {
   "cell_type": "code",
   "execution_count": 8,
   "metadata": {},
   "outputs": [
    {
     "name": "stdout",
     "output_type": "stream",
     "text": [
      "(1, 'hello', True, 3.14)\n"
     ]
    }
   ],
   "source": [
    "# tuples of multiple data types\n",
    "my_tuple = (1, \"hello\", True, 3.14)\n",
    "print(my_tuple)"
   ]
  },
  {
   "cell_type": "code",
   "execution_count": 11,
   "metadata": {},
   "outputs": [
    {
     "name": "stdout",
     "output_type": "stream",
     "text": [
      "1\n",
      "True\n",
      "(1, 'hello')\n",
      "(True, 3.14)\n",
      "('hello', True)\n"
     ]
    }
   ],
   "source": [
    "# access my_tuple items\n",
    "my_tuple = (1, \"hello\", True, 3.14)\n",
    "\n",
    "# Accessing items in a tuple\n",
    "print(my_tuple[0])  \n",
    "print(my_tuple[-2])\n",
    "print(my_tuple[0:2])\n",
    "print(my_tuple[2:])\n",
    "print(my_tuple[-3:-1])"
   ]
  },
  {
   "cell_type": "code",
   "execution_count": 12,
   "metadata": {},
   "outputs": [
    {
     "name": "stdout",
     "output_type": "stream",
     "text": [
      "(1, 2, 10, 4, 5)\n"
     ]
    }
   ],
   "source": [
    "# update a tuple\n",
    "my_tuple = (1, 2, 3, 4, 5)\n",
    "my_list = list(my_tuple)\n",
    "my_list[2] = 10\n",
    "my_tuple = tuple(my_list)\n",
    "print(my_tuple)"
   ]
  },
  {
   "cell_type": "code",
   "execution_count": 13,
   "metadata": {},
   "outputs": [
    {
     "name": "stdout",
     "output_type": "stream",
     "text": [
      "(1, 2, 3, 4, 5, 6)\n"
     ]
    }
   ],
   "source": [
    "# add tuple to a tuple\n",
    "tuple1 = (1, 2, 3)\n",
    "tuple2 = (4, 5, 6)\n",
    "result = tuple1 + tuple2\n",
    "print(result)"
   ]
  },
  {
   "cell_type": "code",
   "execution_count": 16,
   "metadata": {},
   "outputs": [
    {
     "name": "stdout",
     "output_type": "stream",
     "text": [
      "1\n",
      "1\n"
     ]
    }
   ],
   "source": [
    "fruits = ('banana', 'cherry', 'watermalon', 'raspberry')\n",
    "print(fruits.index('cherry'))\n",
    "print(fruits.count('watermalon'))\n"
   ]
  },
  {
   "cell_type": "markdown",
   "metadata": {},
   "source": [
    "`Tuple Unpacking`"
   ]
  },
  {
   "cell_type": "code",
   "execution_count": 18,
   "metadata": {},
   "outputs": [
    {
     "name": "stdout",
     "output_type": "stream",
     "text": [
      "raspberry\n"
     ]
    }
   ],
   "source": [
    "fruits = ('banana', 'cherry', 'watermalon', 'raspberry')\n",
    "fruits1, fruits2, fruits3, fruits4 = fruits\n",
    "print(fruits4)\n"
   ]
  },
  {
   "cell_type": "code",
   "execution_count": 19,
   "metadata": {},
   "outputs": [
    {
     "name": "stdout",
     "output_type": "stream",
     "text": [
      "['Sunday', 'Monday', 'Tuesday', 'Wednesday', 'Thrusday']\n"
     ]
    }
   ],
   "source": [
    "weekdays = ('Friday', \"Saturday\", \"Sunday\", \"Monday\", \"Tuesday\", \"Wednesday\", \"Thrusday\")\n",
    "offday1, offday2, *working_days = weekdays\n",
    "print(working_days)"
   ]
  },
  {
   "cell_type": "code",
   "execution_count": 22,
   "metadata": {},
   "outputs": [
    {
     "name": "stdout",
     "output_type": "stream",
     "text": [
      "['Monday', 'Tuesday', 'Wednesday', 'Thrusday']\n"
     ]
    }
   ],
   "source": [
    "working_days, holiday, holiday2, *working_days = weekdays\n",
    "print(working_days)\n"
   ]
  },
  {
   "cell_type": "code",
   "execution_count": null,
   "metadata": {},
   "outputs": [],
   "source": []
  }
 ],
 "metadata": {
  "kernelspec": {
   "display_name": "Python 3",
   "language": "python",
   "name": "python3"
  },
  "language_info": {
   "codemirror_mode": {
    "name": "ipython",
    "version": 3
   },
   "file_extension": ".py",
   "mimetype": "text/x-python",
   "name": "python",
   "nbconvert_exporter": "python",
   "pygments_lexer": "ipython3",
   "version": "3.10.12"
  }
 },
 "nbformat": 4,
 "nbformat_minor": 2
}

{
 "cells": [
  {
   "cell_type": "code",
   "execution_count": null,
   "metadata": {},
   "outputs": [],
   "source": [
    "# Input/Output Questions\n",
    "\n",
    "# Question 1\n",
    "print(\"Question 1: What is the Python function for reading input from the console?\")\n",
    "print(\"a) print()\\nb) input()\\nc) read()\\nd) console()\\n\")\n",
    "\n",
    "# Question 2\n",
    "print(\"\\nQuestion 2: How do you print a string to the console in Python?\")\n",
    "print(\"a) console.print()\\nb) print[]\\nc) print()\\nd) output()\\n\")\n",
    "\n",
    "# Question 3\n",
    "print(\"\\nQuestion 3: How do you read an integer input from the console in Python?\")\n",
    "print(\"a) int(input())\\nb) input(int)\\nc) readInt()\\nd) input().int()\\n\")\n",
    "\n",
    "# Question 4\n",
    "print(\"\\nQuestion 4: How do you print multiple variables in Python?\")\n",
    "print(\"a) print(var1 + var2)\\nb) print(var1, var2)\\nc) print(var1; var2)\\nd) print[var1, var2]\\n\")\n",
    "\n",
    "# Question 5\n",
    "print(\"\\nQuestion 5: How do you print a blank line in Python?\")\n",
    "print(\"a) print(' ')\\nb) print()\\nc) print('\\n')\\nd) print('_')\\n\")"
   ]
  }
 ],
 "metadata": {
  "language_info": {
   "name": "python"
  }
 },
 "nbformat": 4,
 "nbformat_minor": 2
}

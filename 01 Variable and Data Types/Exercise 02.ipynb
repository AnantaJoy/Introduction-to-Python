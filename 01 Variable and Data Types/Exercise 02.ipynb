{
 "cells": [
  {
   "cell_type": "markdown",
   "metadata": {},
   "source": [
    "### Exercise: Data Types and Variables\n"
   ]
  },
  {
   "cell_type": "markdown",
   "metadata": {},
   "source": [
    "\n",
    "1. **Variable Naming:**\n",
    "   - Create a variable with the name `my_variable` and assign the value `42` to it. Print the variable.\n",
    "\n"
   ]
  },
  {
   "cell_type": "code",
   "execution_count": null,
   "metadata": {},
   "outputs": [],
   "source": []
  },
  {
   "cell_type": "markdown",
   "metadata": {},
   "source": [
    "2. **String Manipulation:**\n",
    "   - Declare a string variable with the value \"Hello, Python!\". Print the length of the string and convert it to lowercase. Print the modified string."
   ]
  },
  {
   "cell_type": "code",
   "execution_count": null,
   "metadata": {},
   "outputs": [],
   "source": []
  },
  {
   "cell_type": "markdown",
   "metadata": {},
   "source": [
    "\n",
    "3. **Integer Operations:**\n",
    "   - Create two variables, `num1` and `num2`, with integer values. Calculate the sum, difference, product, and quotient of these numbers. Print the results."
   ]
  },
  {
   "cell_type": "code",
   "execution_count": null,
   "metadata": {},
   "outputs": [],
   "source": []
  },
  {
   "cell_type": "markdown",
   "metadata": {},
   "source": [
    "4. **Type Conversion:**\n",
    "   - Declare a variable `float_num` with a float value. Convert it to an integer and print the result."
   ]
  },
  {
   "cell_type": "code",
   "execution_count": null,
   "metadata": {},
   "outputs": [],
   "source": []
  },
  {
   "cell_type": "markdown",
   "metadata": {},
   "source": [
    "5. **User Input and Printing:**\n",
    "   - Ask the user to enter their age. Store the input in a variable and print a message using that variable."
   ]
  },
  {
   "cell_type": "code",
   "execution_count": null,
   "metadata": {},
   "outputs": [],
   "source": []
  },
  {
   "cell_type": "markdown",
   "metadata": {},
   "source": [
    "6. **Boolean Logic:**\n",
    "   - Create two boolean variables, `is_python_fun` and `is_learning_easy`. Print the result of `not is_python_fun` and the result of `is_python_fun and is_learning_easy`."
   ]
  },
  {
   "cell_type": "code",
   "execution_count": null,
   "metadata": {},
   "outputs": [],
   "source": []
  },
  {
   "cell_type": "markdown",
   "metadata": {},
   "source": [
    "7. **List Operations:**\n",
    "   - Create a list with three different types of fruits. Print the list. Add a new fruit to the list and print the updated list."
   ]
  },
  {
   "cell_type": "code",
   "execution_count": null,
   "metadata": {},
   "outputs": [],
   "source": []
  },
  {
   "cell_type": "markdown",
   "metadata": {},
   "source": [
    "8. **String Slicing:**\n",
    "   - Declare a string variable with the value \"Python is powerful\". Print only the first 6 characters and the last 5 characters.\n"
   ]
  },
  {
   "cell_type": "code",
   "execution_count": null,
   "metadata": {},
   "outputs": [],
   "source": []
  },
  {
   "cell_type": "markdown",
   "metadata": {},
   "source": [
    "\n",
    "\n",
    "9. **Arithmetic Expressions:**\n",
    "   - Create three variables, `a`, `b`, and `c`, with numeric values. Form an expression using these variables that involves addition, multiplication, and division. Print the result."
   ]
  },
  {
   "cell_type": "code",
   "execution_count": null,
   "metadata": {},
   "outputs": [],
   "source": []
  },
  {
   "cell_type": "markdown",
   "metadata": {},
   "source": [
    "\n",
    "\n",
    "\n",
    "\n",
    "10. **Variable Swapping:**\n",
    "    - Swap the values of two variables `x` and `y` without using a temporary variable.\n",
    "\n"
   ]
  },
  {
   "cell_type": "code",
   "execution_count": null,
   "metadata": {},
   "outputs": [],
   "source": []
  }
 ],
 "metadata": {
  "kernelspec": {
   "display_name": "Python 3",
   "language": "python",
   "name": "python3"
  },
  "language_info": {
   "name": "python",
   "version": "3.10.12"
  }
 },
 "nbformat": 4,
 "nbformat_minor": 2
}

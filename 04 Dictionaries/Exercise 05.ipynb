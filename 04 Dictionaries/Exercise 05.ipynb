{
 "cells": [
  {
   "cell_type": "markdown",
   "metadata": {},
   "source": [
    "Certainly! Here are 10 problems focused on dictionaries for various skill levels:\n",
    "\n",
    "### Exercise: Dictionaries\n",
    "\n",
    "1. **Dictionary Creation:**\n",
    "   - Create a dictionary named `student` with keys \"name,\" \"age,\" and \"grade.\" Assign appropriate values and print the dictionary.\n",
    "\n",
    "2. **Accessing Dictionary Values:**\n",
    "   - Given a dictionary `car` with keys \"brand,\" \"model,\" and \"year,\" print the model of the car.\n",
    "\n",
    "3. **Dictionary Manipulation:**\n",
    "   - Create a dictionary called `fruit_basket` with at least three types of fruits and their respective quantities. Add a new fruit to the dictionary and print the updated dictionary.\n",
    "\n",
    "4. **Dictionary Nesting:**\n",
    "   - Create a dictionary named `person` with keys \"name,\" \"age,\" and \"address.\" For the address, use another dictionary with keys \"street,\" \"city,\" and \"zip_code.\"\n",
    "\n",
    "5. **Key Existence Check:**\n",
    "   - Given a dictionary `book` with keys \"title,\" \"author,\" and \"year,\" check if the key \"publisher\" exists. Print the result.\n",
    "\n",
    "6. **Dictionary Iteration:**\n",
    "   - Create a dictionary of at least 5 items. Use a loop to iterate through the keys and print both the key and its corresponding value.\n",
    "\n",
    "7. **Dictionary Comprehension:**\n",
    "   - Create a dictionary of numbers from 1 to 5 as keys and their squares as values using dictionary comprehension.\n",
    "\n",
    "8. **Dictionary Value Modification:**\n",
    "   - Create a dictionary of student grades. Update the grade of a specific student and print the updated dictionary.\n",
    "\n",
    "9. **Dictionary Filtering:**\n",
    "   - Create a dictionary of ages for a group of people. Use dictionary comprehension to create a new dictionary with only adults (ages 18 and above).\n",
    "\n",
    "10. **Dictionary Functions:**\n",
    "    - Create two dictionaries, `dict1` and `dict2`, with at least 3 common keys. Write a function to merge these dictionaries and print the result.\n",
    "\n",
    "Feel free to adapt these problems based on the specific focus or level of your Python course for dictionaries."
   ]
  }
 ],
 "metadata": {
  "language_info": {
   "name": "python"
  }
 },
 "nbformat": 4,
 "nbformat_minor": 2
}

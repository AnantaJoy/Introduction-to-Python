{
 "cells": [
  {
   "cell_type": "markdown",
   "metadata": {},
   "source": [
    "Certainly! Here are 10 problems covering control statements in Python, including `if`, `elif`, nested `if-else`, and shorthand `if-else`:\n",
    "\n",
    "### Exercise: Control Statements\n",
    "\n",
    "#### Basic If-Else Statements:\n",
    "\n",
    "1. **Greater Number:**\n",
    "   - Ask the user to enter two numbers. Compare the numbers and print a message indicating which number is greater.\n",
    "\n",
    "2. **Even or Odd:**\n",
    "   - Take an integer input from the user. Determine if it's even or odd and print the result.\n",
    "\n",
    "#### Elif Statements:\n",
    "\n",
    "3. **Grade Classification:**\n",
    "   - Ask the user to enter a numeric grade (0-100). Classify the grade into categories: \"A,\" \"B,\" \"C,\" \"D,\" or \"F.\"\n",
    "\n",
    "4. **Time of Day:**\n",
    "   - Get the current hour (in 24-hour format) from the system. Use `if-elif` statements to print \"Good morning,\" \"Good afternoon,\" or \"Good evening\" based on the hour.\n",
    "\n",
    "#### Nested If-Else Statements:\n",
    "\n",
    "5. **Leap Year:**\n",
    "   - Ask the user to input a year. Check if it's a leap year. A leap year is either divisible by 4 but not by 100, or divisible by 400.\n",
    "\n",
    "6. **Triangle Type:**\n",
    "   - Given three sides of a triangle, determine and print whether it's an equilateral, isosceles, or scalene triangle.\n",
    "\n",
    "#### Shorthand If-Else:\n",
    "\n",
    "7. **Maximum of Three Numbers:**\n",
    "   - Ask the user to input three numbers. Use a shorthand `if-else` statement to find and print the maximum among them.\n",
    "\n",
    "8. **Positive or Negative:**\n",
    "   - Take an integer input from the user. Use a shorthand `if-else` statement to determine if it's positive or negative.\n",
    "\n",
    "#### Combined Control Statements:\n",
    "\n",
    "9. **Temperature Classification:**\n",
    "   - Get the current temperature from the user. Classify the temperature into categories: \"Cold,\" \"Moderate,\" or \"Hot\" using a combination of `if`, `elif`, and `else` statements.\n",
    "\n",
    "10. **Discount Calculation:**\n",
    "    - Ask the user to enter the total purchase amount. Apply a discount based on the purchase amount:\n",
    "        - 10% discount for amounts less than 100.\n",
    "        - 20% discount for amounts between 100 and 500 (inclusive).\n",
    "        - 30% discount for amounts greater than 500.\n",
    "    - Print the discounted amount.\n",
    "\n",
    "Feel free to adapt these problems based on the specific focus or level of your Python course on control statements."
   ]
  },
  {
   "cell_type": "markdown",
   "metadata": {},
   "source": []
  }
 ],
 "metadata": {
  "language_info": {
   "name": "python"
  }
 },
 "nbformat": 4,
 "nbformat_minor": 2
}

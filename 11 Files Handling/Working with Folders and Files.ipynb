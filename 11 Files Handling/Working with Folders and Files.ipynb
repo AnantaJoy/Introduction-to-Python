{
 "cells": [
  {
   "cell_type": "code",
   "execution_count": 2,
   "metadata": {},
   "outputs": [],
   "source": [
    "import os\n",
    "from datetime import datetime"
   ]
  },
  {
   "cell_type": "code",
   "execution_count": 7,
   "metadata": {},
   "outputs": [
    {
     "name": "stdout",
     "output_type": "stream",
     "text": [
      "{'name': 'names2.txt', 'size': '24.0 bytes', 'modified': '2024-01-15 18:30:19'}\n"
     ]
    }
   ],
   "source": [
    "def get_date(timestmp):\n",
    "    return datetime.fromtimestamp(timestmp).strftime('%Y-%m-%d %H:%M:%S')\n",
    "\n",
    "def get_size(size):\n",
    "    for x in ['bytes', 'KB', 'MB', 'GB', 'TB']:\n",
    "        if size < 1024.0:\n",
    "            return \"%3.1f %s\" % (size, x)\n",
    "        size /= 1024.0\n",
    "    return size\n",
    "\n",
    "def get_file_info(file):\n",
    "    return {\n",
    "        'name': os.path.basename(file),\n",
    "        'size': get_size(os.path.getsize(file)),\n",
    "        'modified': get_date(os.path.getmtime(file))\n",
    "        }\n",
    "    \n",
    "print(get_file_info('./names2.txt'))"
   ]
  },
  {
   "cell_type": "code",
   "execution_count": 8,
   "metadata": {},
   "outputs": [
    {
     "name": "stdout",
     "output_type": "stream",
     "text": [
      "{'name': 'students.py', 'size': '392.0 bytes', 'modified': '2024-01-15 23:06:41'}\n",
      "{'name': 'writing_names.py', 'size': '163.0 bytes', 'modified': '2024-01-15 18:26:23'}\n",
      "{'name': 'names2.txt', 'size': '24.0 bytes', 'modified': '2024-01-15 18:30:19'}\n",
      "{'name': '__pycache__', 'size': '4.0 KB', 'modified': '2024-02-04 19:07:11'}\n",
      "{'name': 'names.txt', 'size': '17.0 bytes', 'modified': '2024-01-15 18:39:39'}\n",
      "{'name': 'append_names.py', 'size': '95.0 bytes', 'modified': '2024-01-15 18:33:33'}\n",
      "{'name': 'fn_match.py', 'size': '223.0 bytes', 'modified': '2024-02-04 19:13:30'}\n",
      "{'name': 'Working with Folders and Files.ipynb', 'size': '2.0 KB', 'modified': '2024-02-04 20:08:23'}\n",
      "{'name': 'read_names.py', 'size': '246.0 bytes', 'modified': '2024-02-04 01:41:46'}\n",
      "{'name': 'students.csv', 'size': '68.0 bytes', 'modified': '2024-01-15 23:05:55'}\n",
      "{'name': 'read_a_directory_files.py', 'size': '605.0 bytes', 'modified': '2024-02-04 15:55:29'}\n"
     ]
    }
   ],
   "source": [
    "def get_file_info(file):\n",
    "    return {\n",
    "        'name': os.path.basename(file),\n",
    "        'size': get_size(os.path.getsize(file)),\n",
    "        'modified': get_date(os.path.getmtime(file))\n",
    "        }\n",
    "    \n",
    "for file in os.listdir(\"./\"):\n",
    "    print(get_file_info(file))\n"
   ]
  },
  {
   "cell_type": "markdown",
   "metadata": {},
   "source": [
    "### Creating Files and Folders"
   ]
  },
  {
   "cell_type": "code",
   "execution_count": null,
   "metadata": {},
   "outputs": [],
   "source": [
    "import os\n",
    "\n",
    "folder_name = \"test_folder\"\n",
    "file_name = folder_name + \"/test_file.txt\"\n",
    "\n",
    "# create folder\n",
    "os.mkdir(folder_name)\n",
    "\n",
    "# create file\n",
    "with open(file_name, 'w') as f:\n",
    "    f.write(\"Hello, world!\")"
   ]
  },
  {
   "cell_type": "markdown",
   "metadata": {},
   "source": [
    "### Copy Files and Folder"
   ]
  },
  {
   "cell_type": "code",
   "execution_count": 11,
   "metadata": {},
   "outputs": [],
   "source": [
    "import shutil\n",
    "# shutil.copy(\"names2.txt\", \"names3.txt\")\n",
    "\n",
    "def copy_file(src, dest):\n",
    "    shutil.copy(src, dest)\n",
    "\n",
    "\n",
    "def copy_folder(src, dest):\n",
    "    shutil.copytree(src, dest)\n",
    "\n",
    "\n",
    "# copy_file(\"names2.txt\", \"names3.txt\")\n",
    "# copy_folder(\"11 Files Handling\", \"./new/11 Files Handling Copy\")"
   ]
  },
  {
   "cell_type": "markdown",
   "metadata": {},
   "source": [
    "### Move Files and Folders"
   ]
  },
  {
   "cell_type": "code",
   "execution_count": 14,
   "metadata": {},
   "outputs": [],
   "source": [
    "def move_file(src, dest):\n",
    "    shutil.move(src, dest)\n",
    "\n",
    "move_file(\"names3.txt\", \"./names4.txt\")\n",
    "\n",
    "def move_folder(src, dest):\n",
    "    shutil.move(src, dest)\n"
   ]
  },
  {
   "cell_type": "markdown",
   "metadata": {},
   "source": [
    "### Renaming Files"
   ]
  },
  {
   "cell_type": "code",
   "execution_count": null,
   "metadata": {},
   "outputs": [],
   "source": [
    "def rename_file(src, dest):\n",
    "    os.rename(src, dest)\n",
    "\n",
    "\n",
    "def rename_folder(src, dest):\n",
    "    os.rename(src, dest)\n",
    "\n",
    "from pathlib import Path\n",
    "\n",
    "def rename_file(src, dest):\n",
    "    Path(src).rename(dest)\n",
    "\n",
    "def rename_folder(src, dest):\n",
    "    Path(src).rename(dest)\n"
   ]
  },
  {
   "cell_type": "markdown",
   "metadata": {},
   "source": [
    "### Delete Files and Folders"
   ]
  },
  {
   "cell_type": "code",
   "execution_count": null,
   "metadata": {},
   "outputs": [],
   "source": [
    "def delete_file(file):\n",
    "    os.remove(file)\n",
    "    \n",
    "# delete_file(\"names3.txt\")\n",
    "\n",
    "def delete_folder(folder):\n",
    "    shutil.rmtree(folder)"
   ]
  },
  {
   "cell_type": "code",
   "execution_count": null,
   "metadata": {},
   "outputs": [],
   "source": [
    "def remove_file(file):\n",
    "    if os.path.exists(file):\n",
    "        os.remove(file)\n",
    "    else:\n",
    "        print(\"The file does not exist\")"
   ]
  },
  {
   "cell_type": "markdown",
   "metadata": {},
   "source": [
    "### File Compression and Decompression"
   ]
  },
  {
   "cell_type": "code",
   "execution_count": 15,
   "metadata": {},
   "outputs": [],
   "source": [
    "# creating zip file\n",
    "def create_zip(src, dest):\n",
    "    shutil.make_archive(dest, 'zip', src)\n",
    "\n",
    "# create_zip(\"11 Files Handling\", \"./11 Files Handling.zip\")"
   ]
  },
  {
   "cell_type": "code",
   "execution_count": 16,
   "metadata": {},
   "outputs": [],
   "source": [
    "import zipfile\n",
    "\n",
    "to_zip = [\n",
    "    \"./names.txt\",\n",
    "    \"./read_a_directory_files.py\"\n",
    "]\n",
    "\n",
    "def create_zip(src, dest):\n",
    "    with zipfile.ZipFile(dest, 'w', allowZip64=True) as f:\n",
    "        for file in src:\n",
    "            f.write(file)\n",
    "        \n",
    "create_zip(to_zip, \"./test\")"
   ]
  },
  {
   "cell_type": "code",
   "execution_count": 23,
   "metadata": {},
   "outputs": [
    {
     "name": "stdout",
     "output_type": "stream",
     "text": [
      "File names.txt already exists\n"
     ]
    }
   ],
   "source": [
    "# add files to existing zip file\n",
    "import zipfile\n",
    "import os\n",
    "def add_to_zip(zipf,files):\n",
    "    with zipfile.ZipFile(zipf, 'a') as z:\n",
    "        for f in files:\n",
    "            lst_files = z.namelist()\n",
    "            if not f in lst_files:\n",
    "                z.write(f)\n",
    "            else:\n",
    "                print(f\"File {f} already exists\")\n",
    "\n",
    "\n",
    "add_to_zip(\"./test.zip\", [\"names.txt\", \"names4.txt\"])"
   ]
  },
  {
   "cell_type": "markdown",
   "metadata": {},
   "source": [
    "### Read zip files"
   ]
  },
  {
   "cell_type": "code",
   "execution_count": 25,
   "metadata": {},
   "outputs": [
    {
     "name": "stdout",
     "output_type": "stream",
     "text": [
      "<ZipInfo filename='names.txt' filemode='-rw-rw-r--' file_size=17>\n",
      "<ZipInfo filename='names4.txt' filemode='-rw-rw-r--' file_size=24>\n"
     ]
    }
   ],
   "source": [
    "def read_zip(zipf):\n",
    "    with zipfile.ZipFile(zipf) as z:\n",
    "        for f in z.namelist():\n",
    "            print(z.getinfo(f))\n",
    "            \n",
    "read_zip(\"./test.zip\")"
   ]
  },
  {
   "cell_type": "markdown",
   "metadata": {},
   "source": [
    "### Extract zip"
   ]
  },
  {
   "cell_type": "code",
   "execution_count": 27,
   "metadata": {},
   "outputs": [],
   "source": [
    "import zipfile\n",
    "def extract_zip(zipf, extract_dir):\n",
    "    \"\"\"Extract all the contents of zipf to extract_dir.\"\"\"\n",
    "    with zipfile.ZipFile(zipf, \"r\") as zip_ref:\n",
    "        zip_ref.extractall(extract_dir)\n",
    "        \n",
    "extract_zip(\"./test.zip\", \"./new\")\n",
    "\n",
    "# partially extract file from zip file\n",
    "\n",
    "def partial_extract_zip(zipf, file_to_extract, extract_dir):\n",
    "    \"\"\"Extract a specific file from zipf to extract_dir.\"\"\"\n",
    "    with zipfile.ZipFile(zipf, \"r\") as zip_ref:\n",
    "        zip_ref.extract(file_to_extract, extract_dir)"
   ]
  },
  {
   "cell_type": "code",
   "execution_count": null,
   "metadata": {},
   "outputs": [],
   "source": []
  }
 ],
 "metadata": {
  "kernelspec": {
   "display_name": "Python 3",
   "language": "python",
   "name": "python3"
  },
  "language_info": {
   "codemirror_mode": {
    "name": "ipython",
    "version": 3
   },
   "file_extension": ".py",
   "mimetype": "text/x-python",
   "name": "python",
   "nbconvert_exporter": "python",
   "pygments_lexer": "ipython3",
   "version": "3.10.12"
  }
 },
 "nbformat": 4,
 "nbformat_minor": 2
}

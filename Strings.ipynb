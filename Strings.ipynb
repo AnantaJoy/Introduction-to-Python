{
 "cells": [
  {
   "cell_type": "code",
   "execution_count": 2,
   "metadata": {},
   "outputs": [
    {
     "name": "stdout",
     "output_type": "stream",
     "text": [
      "Hello, World!\n",
      "13\n"
     ]
    }
   ],
   "source": [
    "# strings: sequences of character \n",
    "# strings are immutable\n",
    "\n",
    "# define a string\n",
    "my_string = \"Hello, World!\"\n",
    "print(my_string)\n",
    "\n",
    "# print the length of the string\n",
    "print(len(my_string))\n"
   ]
  },
  {
   "cell_type": "code",
   "execution_count": 3,
   "metadata": {},
   "outputs": [
    {
     "name": "stdout",
     "output_type": "stream",
     "text": [
      "H\n",
      "ll\n"
     ]
    }
   ],
   "source": [
    "# access the string element\n",
    "print(my_string[0])\n",
    "print(my_string[2:4])"
   ]
  },
  {
   "cell_type": "code",
   "execution_count": 4,
   "metadata": {},
   "outputs": [
    {
     "name": "stdout",
     "output_type": "stream",
     "text": [
      "!\n",
      "rld\n"
     ]
    }
   ],
   "source": [
    "# negative indexing\n",
    "print(my_string[-1])\n",
    "print(my_string[-4:-1])\n"
   ]
  },
  {
   "cell_type": "code",
   "execution_count": 6,
   "metadata": {},
   "outputs": [
    {
     "name": "stdout",
     "output_type": "stream",
     "text": [
      "\n",
      "This is a multi-line string.\n",
      "It can span across multiple lines.\n",
      "You can include line breaks and indentation.\n",
      "\n"
     ]
    }
   ],
   "source": [
    "# multi line string\n",
    "# single and double quote are allowed\n",
    "multi_line_string = \"\"\"\n",
    "This is a multi-line string.\n",
    "It can span across multiple lines.\n",
    "You can include line breaks and indentation.\n",
    "\"\"\"\n",
    "print(multi_line_string)\n"
   ]
  },
  {
   "cell_type": "code",
   "execution_count": 13,
   "metadata": {},
   "outputs": [
    {
     "name": "stdout",
     "output_type": "stream",
     "text": [
      "HelloWorld\n"
     ]
    }
   ],
   "source": [
    "# sting concatenation\n",
    "string1 = \"Hello\"\n",
    "string2 = \"World\"\n",
    "concatenated_string = string1 + string2\n",
    "print(concatenated_string)"
   ]
  },
  {
   "cell_type": "code",
   "execution_count": 8,
   "metadata": {},
   "outputs": [
    {
     "data": {
      "text/plain": [
       "True"
      ]
     },
     "execution_count": 8,
     "metadata": {},
     "output_type": "execute_result"
    }
   ],
   "source": [
    "# searching in string\n",
    "\n",
    "'World' in my_string"
   ]
  },
  {
   "cell_type": "code",
   "execution_count": 11,
   "metadata": {},
   "outputs": [
    {
     "name": "stdout",
     "output_type": "stream",
     "text": [
      "llo,\n",
      "Hello,\n",
      "llo, World!\n"
     ]
    }
   ],
   "source": [
    "# slicing a string\n",
    "print(my_string[2:6])\n",
    "print(my_string[:6])\n",
    "print(my_string[2:])"
   ]
  },
  {
   "cell_type": "code",
   "execution_count": 12,
   "metadata": {},
   "outputs": [
    {
     "name": "stdout",
     "output_type": "stream",
     "text": [
      "HELLO, WORLD!\n",
      "hello, world!\n",
      "Hello, World!\n",
      "Hello, World!\n",
      "Hello, Universe!\n",
      "['Hello,', 'World!']\n"
     ]
    }
   ],
   "source": [
    "# modify string\n",
    "print(my_string.upper())\n",
    "print(my_string.lower())\n",
    "print(my_string.title())\n",
    "print(my_string.strip())\n",
    "print(my_string.replace('World', 'Universe'))\n",
    "print(my_string.split())\n"
   ]
  },
  {
   "cell_type": "code",
   "execution_count": 15,
   "metadata": {},
   "outputs": [
    {
     "name": "stdout",
     "output_type": "stream",
     "text": [
      "Hello, my name is John and I am 25 years old.\n",
      "Hello, my name is John and I am 25 years old.\n",
      "Hello, my name is John and I am 25 years old.\n",
      "Hello, my name is John and I am 25 years old.\n"
     ]
    }
   ],
   "source": [
    "# format string\n",
    "name = \"John\"\n",
    "age = 25\n",
    "print(f\"Hello, my name is {name} and I am {age} years old.\")\n",
    "print(\"Hello, my name is {} and I am {} years old.\".format(name, age))\n",
    "print(\"Hello, my name is {1} and I am {0} years old.\".format(age, name))\n",
    "print(\"Hello, my name is {n} and I am {a} years old.\".format(n=name, a=age))\n"
   ]
  },
  {
   "cell_type": "code",
   "execution_count": 16,
   "metadata": {},
   "outputs": [
    {
     "name": "stdout",
     "output_type": "stream",
     "text": [
      "Hello, \"World\"!\n",
      "Hello, \n",
      "World!\n",
      "Hello, \tWorld!\n",
      "Hello, \\World!\n",
      "Hello,World!\n",
      "World! \n"
     ]
    }
   ],
   "source": [
    "# escape sequence\n",
    "print(\"Hello, \\\"World\\\"!\")\n",
    "print(\"Hello, \\nWorld!\")\n",
    "print(\"Hello, \\tWorld!\")\n",
    "print(\"Hello, \\\\World!\")\n",
    "print(\"Hello, \\bWorld!\")\n",
    "print(\"Hello, \\rWorld!\")"
   ]
  },
  {
   "cell_type": "code",
   "execution_count": null,
   "metadata": {},
   "outputs": [],
   "source": []
  }
 ],
 "metadata": {
  "kernelspec": {
   "display_name": "Python 3",
   "language": "python",
   "name": "python3"
  },
  "language_info": {
   "codemirror_mode": {
    "name": "ipython",
    "version": 3
   },
   "file_extension": ".py",
   "mimetype": "text/x-python",
   "name": "python",
   "nbconvert_exporter": "python",
   "pygments_lexer": "ipython3",
   "version": "3.10.12"
  }
 },
 "nbformat": 4,
 "nbformat_minor": 2
}

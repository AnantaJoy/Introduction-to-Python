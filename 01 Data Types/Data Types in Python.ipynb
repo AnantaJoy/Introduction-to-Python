{
 "cells": [
  {
   "cell_type": "code",
   "execution_count": null,
   "metadata": {},
   "outputs": [],
   "source": [
    "# Integer\n",
    "x = 1\n",
    "print(type(x))  # <class 'int'>\n",
    "\n",
    "# Float\n",
    "y = 2.8  # directly defining a float\n",
    "print(type(y))  # <class 'float'>\n",
    "\n",
    "y = 3e8  # defining a float using scientific notation\n",
    "print(y)  # 300000000.0\n",
    "print(type(y))  # <class 'float'>\n",
    "\n",
    "# Complex\n",
    "z = 1j\n",
    "print(type(z))  # <class 'complex'>"
   ]
  },
  {
   "cell_type": "code",
   "execution_count": null,
   "metadata": {},
   "outputs": [],
   "source": []
  },
  {
   "cell_type": "code",
   "execution_count": null,
   "metadata": {},
   "outputs": [],
   "source": [
    "# Converting from integer to float\n",
    "a = float(x)\n",
    "print(a)  # 1.0\n",
    "print(type(a))  # <class 'float'>\n",
    "\n",
    "# Converting from float to integer\n",
    "b = int(y)\n",
    "print(b)  # 2\n",
    "print(type(b))  # <class 'int'>\n",
    "\n",
    "# Converting from integer to complex\n",
    "c = complex(x)\n",
    "print(c)  # (1+0j)\n",
    "print(type(c))  # <class 'complex'>"
   ]
  }
 ],
 "metadata": {
  "language_info": {
   "name": "python"
  }
 },
 "nbformat": 4,
 "nbformat_minor": 2
}

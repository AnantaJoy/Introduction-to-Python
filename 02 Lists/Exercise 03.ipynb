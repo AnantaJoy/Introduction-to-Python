{
 "cells": [
  {
   "cell_type": "markdown",
   "metadata": {},
   "source": [
    "\n",
    "### Exercise: Lists\n",
    "\n",
    "**List Basics:**\n",
    "\n",
    "1. **List Creation:**\n",
    "   - Create a list named `vegetables` with the names of three different vegetables. Print the list.\n",
    "\n",
    "2. **List Indexing:**\n",
    "   - Declare a list `books` with at least 4 book titles. Print the first, second, and last elements of the list.\n",
    "\n",
    "3. **List Manipulation:**\n",
    "   - Create a list called `cities` with the names of three cities. Append a new city to the list and print the updated list.\n",
    "\n",
    "4. **List Slicing:**\n",
    "   - Declare a list `numbers` with at least 5 numeric values. Print the third and fourth elements using slicing.\n",
    "\n",
    "5. **List Length:**\n",
    "   - Create a list named `countries` with the names of five different countries. Print the number of countries in the list.\n",
    "\n",
    "6. **List Removal:**\n",
    "   - Create a list called `fruits` with at least 4 different fruits. Remove one fruit from the list and print the updated list.\n",
    "\n",
    "7. **List Repetition:**\n",
    "   - Create a list called `repeated_colors` with three different colors. Multiply the list by 2 and print the result.\n",
    "\n",
    "8. **List Sorting:**\n",
    "   - Create a list of random numbers. Sort the list in descending order and print the sorted list.\n",
    "\n",
    "9. **Nested Lists:**\n",
    "   - Create a list named `matrix` with two nested lists, each containing three numeric values. Access and print an individual element from each nested list.\n",
    "\n",
    "10. **List Concatenation:**\n",
    "    - Create two lists, `list_a` and `list_b`, each containing at least 3 items. Concatenate the two lists and print the result.\n",
    "\n"
   ]
  },
  {
   "cell_type": "markdown",
   "metadata": {},
   "source": []
  }
 ],
 "metadata": {
  "language_info": {
   "name": "python"
  }
 },
 "nbformat": 4,
 "nbformat_minor": 2
}

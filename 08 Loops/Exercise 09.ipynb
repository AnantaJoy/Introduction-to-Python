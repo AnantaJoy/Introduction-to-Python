{
 "cells": [
  {
   "cell_type": "markdown",
   "metadata": {},
   "source": [
    "\n",
    "\n",
    "### Exercise: Looping\n",
    "\n",
    "#### For Loops:\n",
    "\n",
    "1. **Print Numbers:**\n",
    "   - Use a `for` loop to print the numbers from 1 to 5.\n",
    "\n",
    "2. **Even Numbers:**\n",
    "   - Print all even numbers between 10 and 20 using a `for` loop.\n",
    "\n",
    "3. **Multiplication Table:**\n",
    "   - Ask the user to input a number. Use a `for` loop to print the multiplication table for that number from 1 to 10.\n",
    "\n",
    "4. **Factorial Calculation:**\n",
    "   - Ask the user to input a positive integer. Use a `for` loop to calculate and print the factorial of that number.\n",
    "\n",
    "5. **List Sum:**\n",
    "   - Given a list of numbers, use a `for` loop to calculate and print the sum of the numbers in the list.\n",
    "\n",
    "#### While Loops:\n",
    "\n",
    "6. **Countdown:**\n",
    "   - Implement a countdown timer using a `while` loop. Start from 10 and print the countdown to 1.\n",
    "\n",
    "7. **Guessing Game:**\n",
    "   - Generate a random number between 1 and 10. Ask the user to guess the number. Use a `while` loop to keep prompting until the correct number is guessed.\n",
    "\n",
    "8. **Password Verification:**\n",
    "   - Ask the user to enter a password. Use a `while` loop to keep asking until the correct password (\"python123\") is entered.\n",
    "\n",
    "#### Mixed Looping:\n",
    "\n",
    "9. **Print Patterns:**\n",
    "   - Use nested `for` loops to print the following pattern:\n",
    "      ```\n",
    "      *\n",
    "      **\n",
    "      ***\n",
    "      ****\n",
    "      ```\n",
    "\n",
    "10. **Prime Numbers:**\n",
    "    - Ask the user to input a number. Use a combination of `for` and `while` loops to determine if the number is prime or not and print the result.\n"
   ]
  },
  {
   "cell_type": "markdown",
   "metadata": {},
   "source": []
  }
 ],
 "metadata": {
  "language_info": {
   "name": "python"
  }
 },
 "nbformat": 4,
 "nbformat_minor": 2
}

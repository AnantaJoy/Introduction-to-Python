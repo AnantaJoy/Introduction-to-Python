{
 "cells": [
  {
   "cell_type": "code",
   "execution_count": 8,
   "metadata": {
    "collapsed": true,
    "ExecuteTime": {
     "end_time": "2023-07-22T09:19:17.493266100Z",
     "start_time": "2023-07-22T09:19:17.443888465Z"
    }
   },
   "outputs": [],
   "source": [
    "class Person:\n",
    "    # constructor function\n",
    "    def __init__(self, name, age, add_year=6):\n",
    "        self.name = name\n",
    "        self.age = age\n",
    "        self.add_year = add_year\n",
    "    def details(self):\n",
    "        print(self.name, self.age)\n",
    "\n",
    "    def append(self, add_year):\n",
    "        print(self.age+self.add_year)"
   ]
  },
  {
   "cell_type": "code",
   "execution_count": 9,
   "outputs": [
    {
     "name": "stdout",
     "output_type": "stream",
     "text": [
      "John 25\n",
      "31\n"
     ]
    }
   ],
   "source": [
    "# calling a class\n",
    "p1 = Person(\"John\", 25)\n",
    "p1.details()\n",
    "p1.append(10)"
   ],
   "metadata": {
    "collapsed": false,
    "ExecuteTime": {
     "end_time": "2023-07-22T09:19:20.654973132Z",
     "start_time": "2023-07-22T09:19:20.646404198Z"
    }
   }
  },
  {
   "cell_type": "code",
   "execution_count": null,
   "outputs": [],
   "source": [],
   "metadata": {
    "collapsed": false
   }
  }
 ],
 "metadata": {
  "kernelspec": {
   "display_name": "Python 3",
   "language": "python",
   "name": "python3"
  },
  "language_info": {
   "codemirror_mode": {
    "name": "ipython",
    "version": 2
   },
   "file_extension": ".py",
   "mimetype": "text/x-python",
   "name": "python",
   "nbconvert_exporter": "python",
   "pygments_lexer": "ipython2",
   "version": "2.7.6"
  }
 },
 "nbformat": 4,
 "nbformat_minor": 0
}

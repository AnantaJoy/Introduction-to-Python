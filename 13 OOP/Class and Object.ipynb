{
 "cells": [
  {
   "cell_type": "code",
   "execution_count": 1,
   "metadata": {
    "ExecuteTime": {
     "end_time": "2023-07-22T09:19:17.493266100Z",
     "start_time": "2023-07-22T09:19:17.443888465Z"
    },
    "collapsed": true
   },
   "outputs": [],
   "source": [
    "class Person:\n",
    "    # constructor function\n",
    "    def __init__(self, name, age, add_year=6):\n",
    "        self.name = name\n",
    "        self.age = age\n",
    "        self.add_year = add_year\n",
    "    \n",
    "    # attributes\n",
    "    say = \"Hello\"\n",
    "    \n",
    "    # methods\n",
    "    def details(self):\n",
    "        print(self.name, self.age)\n",
    "\n",
    "    def append(self):\n",
    "        print(self.age+self.add_year)"
   ]
  },
  {
   "cell_type": "code",
   "execution_count": 7,
   "metadata": {},
   "outputs": [
    {
     "data": {
      "text/plain": [
       "type"
      ]
     },
     "execution_count": 7,
     "metadata": {},
     "output_type": "execute_result"
    }
   ],
   "source": [
    "type(Person)"
   ]
  },
  {
   "cell_type": "code",
   "execution_count": 16,
   "metadata": {},
   "outputs": [
    {
     "name": "stdout",
     "output_type": "stream",
     "text": [
      "John 25\n",
      "31\n"
     ]
    }
   ],
   "source": [
    "# object creation\n",
    "p1 = Person(\"John\", 25)\n",
    "p2 = Person(\"Jane\", 30, 7)\n",
    "p1.details()\n",
    "p1.append()"
   ]
  },
  {
   "cell_type": "code",
   "execution_count": 15,
   "metadata": {},
   "outputs": [
    {
     "name": "stdout",
     "output_type": "stream",
     "text": [
      "Jane 30\n"
     ]
    }
   ],
   "source": [
    "p2.details()"
   ]
  },
  {
   "cell_type": "code",
   "execution_count": 6,
   "metadata": {
    "ExecuteTime": {
     "end_time": "2023-07-22T09:19:20.654973132Z",
     "start_time": "2023-07-22T09:19:20.646404198Z"
    },
    "collapsed": false
   },
   "outputs": [
    {
     "data": {
      "text/plain": [
       "__main__.Person"
      ]
     },
     "execution_count": 6,
     "metadata": {},
     "output_type": "execute_result"
    }
   ],
   "source": [
    "# calling a class\n",
    "p1 = Person(\"John\", 25)\n",
    "# p1.details()\n",
    "# p1.append(10)\n",
    "p1."
   ]
  },
  {
   "cell_type": "code",
   "execution_count": 1,
   "metadata": {
    "collapsed": false
   },
   "outputs": [
    {
     "name": "stdout",
     "output_type": "stream",
     "text": [
      "<__main__.Employee object at 0x7f832d5bbca0>\n"
     ]
    }
   ],
   "source": [
    "# # creating a class\n",
    "# class Employee:\n",
    "#     pass\n",
    "\n",
    "# # instance of class\n",
    "# employee1 = Employee()\n",
    "# print(employee1)"
   ]
  },
  {
   "cell_type": "code",
   "execution_count": 2,
   "metadata": {},
   "outputs": [
    {
     "name": "stdout",
     "output_type": "stream",
     "text": [
      "['__class__', '__delattr__', '__dict__', '__dir__', '__doc__', '__eq__', '__format__', '__ge__', '__getattribute__', '__gt__', '__hash__', '__init__', '__init_subclass__', '__le__', '__lt__', '__module__', '__ne__', '__new__', '__reduce__', '__reduce_ex__', '__repr__', '__setattr__', '__sizeof__', '__str__', '__subclasshook__', '__weakref__']\n"
     ]
    }
   ],
   "source": [
    "# print(dir(employee1))"
   ]
  },
  {
   "cell_type": "code",
   "execution_count": 3,
   "metadata": {},
   "outputs": [
    {
     "name": "stdout",
     "output_type": "stream",
     "text": [
      "<__main__.Employee object at 0x7f832d5babc0>\n"
     ]
    }
   ],
   "source": [
    "# # creating a class\n",
    "# class Employee:\n",
    "#     def __init__(self) -> None:\n",
    "#         self.__dict__[\"name\"] = \"John\"\n",
    "#         self.__dict__[\"age\"] = 25\n",
    "#         self.__dict__[\"add_year\"] = 6\n",
    "    \n",
    "    \n",
    "\n",
    "# # instance of class\n",
    "# employee1 = Employee()\n",
    "# print(employee1)"
   ]
  },
  {
   "cell_type": "code",
   "execution_count": 4,
   "metadata": {},
   "outputs": [
    {
     "data": {
      "text/plain": [
       "{'name': 'John', 'age': 25, 'add_year': 6}"
      ]
     },
     "execution_count": 4,
     "metadata": {},
     "output_type": "execute_result"
    }
   ],
   "source": [
    "employee1.__dict__"
   ]
  },
  {
   "cell_type": "code",
   "execution_count": 5,
   "metadata": {},
   "outputs": [
    {
     "data": {
      "text/plain": [
       "'John'"
      ]
     },
     "execution_count": 5,
     "metadata": {},
     "output_type": "execute_result"
    }
   ],
   "source": [
    "employee1.name"
   ]
  },
  {
   "cell_type": "code",
   "execution_count": 6,
   "metadata": {},
   "outputs": [
    {
     "data": {
      "text/plain": [
       "__main__.Employee"
      ]
     },
     "execution_count": 6,
     "metadata": {},
     "output_type": "execute_result"
    }
   ],
   "source": [
    "employee1.__class__"
   ]
  },
  {
   "cell_type": "code",
   "execution_count": 1,
   "metadata": {},
   "outputs": [],
   "source": [
    "# creating a class\n",
    "class Employee:\n",
    "    \"\"\"Test\n",
    "    Employee\"\"\"\n",
    "    def __init__(self, name, age, add_year):\n",
    "        self.name = name\n",
    "        self.age = age\n",
    "        self.add_year = add_year\n",
    "        self.salary = 0\n",
    "        self.bonus = 0\n",
    "        self.total = 0\n",
    "        self.tax = 0\n",
    "        self.net_salary = 0\n",
    "    \n",
    "    def increment(self):\n",
    "        self.salary +=  self.add_year*1000\n",
    "    \n",
    "    def net_salary(self):\n",
    "        self.total = self.salary + self.bonus\n",
    "        self.tax = self.total * 0.1\n",
    "        self.net_salary = self.total - self.tax\n",
    "        return self.net_salary\n",
    "        \n",
    "    def print_info(self):\n",
    "        print(f\"Employee Name:{self.name}\")\n",
    "        print(f\"Employee Age:{self.age}\")\n",
    "        print(f\"Salary:{self.salary}\")\n",
    "        print(f\"Bonus:{self.bonus}\")\n",
    "        print(f\"Total:{self.total}\")\n",
    "        print(f\"Tax:{self.tax}\")\n",
    "        print(f\"Net Salary:{self.net_salary}\")\n",
    "    \n",
    "    def profit_share(self):\n",
    "        pass\n",
    "    \n",
    "    def __str__(self) -> str:\n",
    "        return f\"This is employee class. {self.name} is from {self.add_year} year.\"\n",
    "    \n",
    "    def __repr__(self) -> str:\n",
    "        return f\"This is employee class. {self.name} is from {self.add_year} year.\"\n"
   ]
  },
  {
   "cell_type": "code",
   "execution_count": 5,
   "metadata": {},
   "outputs": [
    {
     "data": {
      "text/plain": [
       "{'name': 'John',\n",
       " 'age': 25,\n",
       " 'add_year': 6,\n",
       " 'salary': 10000,\n",
       " 'bonus': 500,\n",
       " 'total': 10500,\n",
       " 'tax': 1050.0,\n",
       " 'net_salary': 9450.0}"
      ]
     },
     "execution_count": 5,
     "metadata": {},
     "output_type": "execute_result"
    }
   ],
   "source": [
    "# instance of class\n",
    "employee1 = Employee(\"John\", 25, 6)\n",
    "employee1.salary = 10000\n",
    "employee1.bonus = 500\n",
    "employee1.total = employee1.salary + employee1.bonus\n",
    "employee1.tax = employee1.total * 0.1\n",
    "employee1.net_salary = employee1.total - employee1.tax\n",
    "employee1.__dict__"
   ]
  },
  {
   "cell_type": "code",
   "execution_count": 21,
   "metadata": {},
   "outputs": [
    {
     "data": {
      "text/plain": [
       "<method-wrapper '__str__' of list object at 0x7f5246bd8c80>"
      ]
     },
     "execution_count": 21,
     "metadata": {},
     "output_type": "execute_result"
    }
   ],
   "source": [
    "lst = []\n",
    "lst.__"
   ]
  },
  {
   "cell_type": "code",
   "execution_count": 4,
   "metadata": {},
   "outputs": [
    {
     "data": {
      "text/plain": [
       "<bound method Employee.__repr__ of This is employee class. John is from 6 year.>"
      ]
     },
     "execution_count": 4,
     "metadata": {},
     "output_type": "execute_result"
    }
   ],
   "source": [
    "employee1"
   ]
  },
  {
   "cell_type": "code",
   "execution_count": 39,
   "metadata": {},
   "outputs": [
    {
     "name": "stdout",
     "output_type": "stream",
     "text": [
      "Employee Name:Jane\n",
      "Employee Age:30\n",
      "Salary:20000\n",
      "Bonus:1000\n",
      "Total:21000\n",
      "Tax:2100.0\n",
      "Net Salary:18900.0\n"
     ]
    }
   ],
   "source": [
    "employee2 = Employee(\"Jane\", 30, 5)\n",
    "employee2.salary = 20000\n",
    "employee2.bonus = 1000\n",
    "employee2.total = employee2.salary + employee2.bonus\n",
    "employee2.tax = employee2.total * 0.1\n",
    "employee2.net_salary = employee2.total - employee2.tax\n",
    "employee2.print_info()"
   ]
  },
  {
   "cell_type": "code",
   "execution_count": 40,
   "metadata": {},
   "outputs": [
    {
     "name": "stdout",
     "output_type": "stream",
     "text": [
      "This is employee class. Jane is from 5 year.\n"
     ]
    }
   ],
   "source": [
    "# how to view the __str__ method in class\n",
    "print(employee2)"
   ]
  },
  {
   "cell_type": "code",
   "execution_count": 6,
   "metadata": {},
   "outputs": [],
   "source": [
    "class Employee:\n",
    "    minimum_salary = 10000\n",
    "    @classmethod\n",
    "    def minimum_salary(cls, new_salary):   \n",
    "        if minimum_salary < 10000:\n",
    "            return \"Salary is less than 10000\"\n",
    "        cls.minimum_salary = new_salary\n",
    "    \n",
    "    def __init__(self, name, age, salary):\n",
    "        self.name = name\n",
    "        self.age = age\n",
    "        self.salary = salary\n",
    "    \n",
    "    def increment(self, add_year):\n",
    "        self.salary = self.salary + add_year*1.1\n",
    "    \n",
    "    @property\n",
    "    def salary(self):\n",
    "        return self._salary\n",
    "    \n",
    "    @salary.setter\n",
    "    def salary(self, salary):\n",
    "        self._salary = salary\n",
    "        \n",
    "    \n",
    "# print(Employee.__dict__)\n",
    "        "
   ]
  },
  {
   "cell_type": "code",
   "execution_count": 4,
   "metadata": {},
   "outputs": [
    {
     "data": {
      "text/plain": [
       "10011.0"
      ]
     },
     "execution_count": 4,
     "metadata": {},
     "output_type": "execute_result"
    }
   ],
   "source": [
    "employee1 = Employee(\"John\", 25, 10000)\n",
    "Employee.__dict__[\"increment\"](employee1, 10)\n",
    "employee1.salary"
   ]
  },
  {
   "cell_type": "code",
   "execution_count": 13,
   "metadata": {},
   "outputs": [
    {
     "name": "stdout",
     "output_type": "stream",
     "text": [
      "Book(title='Python', author='John', pages=200) has been added to the library.\n",
      "Book(title='Java', author='Jane', pages=300) has been added to the library.\n",
      "Book(title='C++', author='Jack', pages=400) has been added to the library.\n"
     ]
    },
    {
     "data": {
      "text/plain": [
       "3"
      ]
     },
     "execution_count": 13,
     "metadata": {},
     "output_type": "execute_result"
    }
   ],
   "source": [
    "# composition  vs. inheritance\n",
    "# composition: has-a relationship\n",
    "# inheritance: is-a relationship\n",
    "\n",
    "# class Book:\n",
    "#     def __init__(self, title, author, pages):\n",
    "#         self.title = title\n",
    "#         self.author = author\n",
    "#         self.pages = pages\n",
    "\n",
    "#     def __repr__(self):\n",
    "#         return f\"{self.title} by {self.author}\"\n",
    "from dataclasses import dataclass\n",
    "\n",
    "@dataclass\n",
    "class Book:\n",
    "    title: str\n",
    "    author: str\n",
    "    pages: int\n",
    "    \n",
    "\n",
    "class Library:\n",
    "    def __init__(self, name):\n",
    "        self.name = name\n",
    "        self.books = []\n",
    "        \n",
    "    def add_book(self, book):\n",
    "        self.books.append(book)\n",
    "        print(f\"{book} has been added to the library.\")\n",
    "    \n",
    "    def remove_book(self, book):\n",
    "        self.books.remove(book)\n",
    "        print(f\"{book} has been removed from the library.\")\n",
    "        \n",
    "    def total_books(self):\n",
    "        return len(self.books)\n",
    "\n",
    "book1 = Book(\"Python\", \"John\", 200)\n",
    "book2 = Book(\"Java\", \"Jane\", 300)\n",
    "book3 = Book(\"C++\", \"Jack\", 400)\n",
    "\n",
    "library1 = Library(\"My Library\")\n",
    "library1.add_book(book1)\n",
    "library1.add_book(book2)\n",
    "library1.add_book(book3)\n",
    "library1.total_books()"
   ]
  },
  {
   "cell_type": "code",
   "execution_count": null,
   "metadata": {},
   "outputs": [],
   "source": []
  }
 ],
 "metadata": {
  "kernelspec": {
   "display_name": "Python 3",
   "language": "python",
   "name": "python3"
  },
  "language_info": {
   "codemirror_mode": {
    "name": "ipython",
    "version": 3
   },
   "file_extension": ".py",
   "mimetype": "text/x-python",
   "name": "python",
   "nbconvert_exporter": "python",
   "pygments_lexer": "ipython3",
   "version": "3.10.12"
  }
 },
 "nbformat": 4,
 "nbformat_minor": 0
}

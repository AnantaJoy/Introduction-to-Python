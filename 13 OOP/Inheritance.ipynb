{
 "cells": [
  {
   "cell_type": "code",
   "execution_count": 35,
   "metadata": {},
   "outputs": [],
   "source": [
    "class Employee:\n",
    "    __slots__ = (\"name\", \"age\", \"position\", \"salary\")\n",
    "    \n",
    "    def __init__(self, name, age, position, salary):\n",
    "        self.name = name\n",
    "        self.age = age\n",
    "        self.position = position\n",
    "        self.salary = salary\n",
    "    \n",
    "    def increase_salary(self, amount):\n",
    "        self.salary += self.salary * (amount / 100)\n",
    "\n",
    "class Tester(Employee):\n",
    "    def run_tests(self):\n",
    "        print(f\"{self.name} is running tests...\")\n",
    "\n",
    "class Developer(Employee):\n",
    "    __slots__ = (\"role\",)\n",
    "    \n",
    "    def __init__(self, name, age, position, salary, role):\n",
    "        super().__init__(name, age, position, salary)\n",
    "        self.role = role\n",
    "        \n",
    "        \n",
    "    \n",
    "    def increase_salary(self, amount, bonus=0):\n",
    "        super().increase_salary(amount)\n",
    "        self.salary += bonus\n",
    "        "
   ]
  },
  {
   "cell_type": "code",
   "execution_count": 20,
   "metadata": {},
   "outputs": [
    {
     "name": "stdout",
     "output_type": "stream",
     "text": [
      "5500.0\n"
     ]
    }
   ],
   "source": [
    "employee1  = Tester(\"John\", 25, \"Tester\", 5000)\n",
    "employee1.increase_salary(10)\n",
    "print(employee1.salary) # 5500.0\n"
   ]
  },
  {
   "cell_type": "code",
   "execution_count": 21,
   "metadata": {},
   "outputs": [
    {
     "name": "stdout",
     "output_type": "stream",
     "text": [
      "John is running tests...\n"
     ]
    }
   ],
   "source": [
    "employee1.run_tests()"
   ]
  },
  {
   "cell_type": "code",
   "execution_count": 36,
   "metadata": {},
   "outputs": [
    {
     "name": "stdout",
     "output_type": "stream",
     "text": [
      "6950.0\n"
     ]
    }
   ],
   "source": [
    "employee2 = Developer(\"John\", 25, \"Junior\", 5000, \"Developer\")\n",
    "employee2.increase_salary(15, 1200)\n",
    "print(employee2.salary)\n"
   ]
  },
  {
   "cell_type": "code",
   "execution_count": 24,
   "metadata": {},
   "outputs": [
    {
     "name": "stdout",
     "output_type": "stream",
     "text": [
      "True\n",
      "False\n",
      "True\n"
     ]
    }
   ],
   "source": [
    "print(isinstance(employee1, Tester))\n",
    "print(isinstance(employee2, Tester))\n",
    "print(isinstance(employee2, Developer))"
   ]
  },
  {
   "cell_type": "code",
   "execution_count": 26,
   "metadata": {},
   "outputs": [
    {
     "name": "stdout",
     "output_type": "stream",
     "text": [
      "True\n",
      "True\n",
      "False\n",
      "True\n"
     ]
    }
   ],
   "source": [
    "print(issubclass(Developer, Employee))\n",
    "print(issubclass(Tester, Employee))\n",
    "print(issubclass(Tester, Developer))\n",
    "print(issubclass(Employee, object))"
   ]
  }
 ],
 "metadata": {
  "kernelspec": {
   "display_name": "Python 3",
   "language": "python",
   "name": "python3"
  },
  "language_info": {
   "codemirror_mode": {
    "name": "ipython",
    "version": 3
   },
   "file_extension": ".py",
   "mimetype": "text/x-python",
   "name": "python",
   "nbconvert_exporter": "python",
   "pygments_lexer": "ipython3",
   "version": "3.10.12"
  }
 },
 "nbformat": 4,
 "nbformat_minor": 2
}

{
 "cells": [
  {
   "cell_type": "markdown",
   "metadata": {},
   "source": [
    "`primitive data types`"
   ]
  },
  {
   "cell_type": "code",
   "execution_count": 1,
   "metadata": {},
   "outputs": [],
   "source": [
    "# primitive data types in python\n",
    "# 1. Number\n",
    "# 2. float\n",
    "# 3. string\n",
    "# Number\n",
    "num = 10\n",
    "print(type(num))  # Output: <class 'int'>\n",
    "\n",
    "# Float\n",
    "float_num = 3.14\n",
    "print(type(float_num))  # Output: <class 'float'>\n",
    "\n",
    "# String\n",
    "text = \"Hello, World!\"\n",
    "print(type(text))  # Output: <class 'str'>\n",
    "\n",
    "# Boolean\n",
    "is_true = True\n",
    "print(type(is_true))  # Output: <class 'bool'>\n",
    "\n",
    "# None\n",
    "none_value = None\n",
    "print(type(none_value))  # Output: <class 'NoneType'>\n",
    "\n",
    "\n"
   ]
  },
  {
   "cell_type": "markdown",
   "metadata": {},
   "source": [
    "`Variable Naming` and `assignment operator`"
   ]
  },
  {
   "cell_type": "code",
   "execution_count": null,
   "metadata": {},
   "outputs": [],
   "source": [
    "# Variable naming convention\n",
    "# 1. Variable names can only contain letters, numbers, and underscores.\n",
    "# 2. Can't start with number\n",
    "# 3. Can't use special character\n",
    "# 4. Variable names are case-sensitive.\n",
    "# Correct variable names\n",
    "my_variable = 10\n",
    "another_variable = \"Hello\"\n",
    "this_is_a_long_variable = 20\n",
    "\n",
    "# Incorrect variable names\n",
    "# Starts with a number\n",
    "# 1_variable = 5\n",
    "\n",
    "# Contains a special character\n",
    "# invalid-variable = \"Invalid\"\n",
    "\n",
    "# Case-sensitive variable names\n",
    "myVariable = 15\n",
    "MyVariable = 20\n",
    "print(myVariable)  # Output: 15\n",
    "print(MyVariable)  # Output: 20\n",
    "\n",
    "\n",
    "my_variable = 10\n",
    "another_variable = \"Hello\"\n",
    "this_is_a_long_variable = 20"
   ]
  },
  {
   "cell_type": "code",
   "execution_count": 3,
   "metadata": {},
   "outputs": [
    {
     "data": {
      "text/plain": [
       "10"
      ]
     },
     "execution_count": 3,
     "metadata": {},
     "output_type": "execute_result"
    }
   ],
   "source": [
    "# multiple variable to a single value\n",
    "var1 = var2 = var3 = 10\n",
    "var3"
   ]
  },
  {
   "cell_type": "code",
   "execution_count": null,
   "metadata": {},
   "outputs": [],
   "source": [
    "# tuple unpacking\n",
    "# Define a tuple\n",
    "my_tuple = (1, 2, 3)\n",
    "\n",
    "# Unpack the tuple into separate variables\n",
    "a, b, c = my_tuple\n",
    "\n",
    "# Print the values of the variables\n",
    "print(a)  # Output: 1"
   ]
  },
  {
   "cell_type": "code",
   "execution_count": 4,
   "metadata": {},
   "outputs": [
    {
     "name": "stdout",
     "output_type": "stream",
     "text": [
      "1\n",
      "2\n",
      "3\n"
     ]
    }
   ],
   "source": [
    "# list unpacking\n",
    "# Define a list\n",
    "my_list = [1, 2, 3]\n",
    "\n",
    "# Unpack the list into separate variables\n",
    "a, b, c = my_list\n",
    "\n",
    "# Print the values of the variables\n",
    "print(a)  # Output: 1\n",
    "print(b)  # Output: 2\n",
    "print(c)  # Output: 3"
   ]
  },
  {
   "cell_type": "markdown",
   "metadata": {},
   "source": [
    "`local` and `global` variable"
   ]
  },
  {
   "cell_type": "code",
   "execution_count": 6,
   "metadata": {},
   "outputs": [],
   "source": [
    "# local variable and global variable\n",
    "# Define a global variable\n",
    "global var\n",
    "var = 92"
   ]
  },
  {
   "cell_type": "code",
   "execution_count": 7,
   "metadata": {},
   "outputs": [
    {
     "name": "stdout",
     "output_type": "stream",
     "text": [
      "10\n",
      "3\n",
      "10\n",
      "True\n",
      "[1, 2, 3]\n"
     ]
    }
   ],
   "source": [
    "# type conversion \n",
    "# Convert a string to an integer\n",
    "string_num = \"10\"\n",
    "integer_num = int(string_num)\n",
    "print(integer_num)  # Output: 10\n",
    "\n",
    "# Convert a float to an integer\n",
    "float_num = 3.14\n",
    "integer_num = int(float_num)\n",
    "print(integer_num)  # Output: 3\n",
    "\n",
    "# Convert an integer to a string\n",
    "integer_num = 10\n",
    "string_num = str(integer_num)\n",
    "print(string_num)  # Output: \"10\"\n",
    "\n",
    "# Convert a boolean to a string\n",
    "boolean_value = True\n",
    "string_value = str(boolean_value)\n",
    "print(string_value)  # Output: \"True\"\n",
    "\n",
    "# Convert a list to a string\n",
    "my_list = [1, 2, 3]\n",
    "string_list = str(my_list)\n",
    "print(string_list)  # Output: \"[1, 2, 3]\""
   ]
  },
  {
   "cell_type": "markdown",
   "metadata": {},
   "source": [
    "`Type Conversion`"
   ]
  },
  {
   "cell_type": "code",
   "execution_count": 1,
   "metadata": {},
   "outputs": [
    {
     "data": {
      "text/plain": [
       "float"
      ]
     },
     "execution_count": 1,
     "metadata": {},
     "output_type": "execute_result"
    }
   ],
   "source": [
    "# Implicit type conversion\n",
    "num1 = 29\n",
    "num2 = 21.0\n",
    "sum = num1 + num2\n",
    "type(sum)"
   ]
  },
  {
   "cell_type": "code",
   "execution_count": 3,
   "metadata": {},
   "outputs": [
    {
     "name": "stdout",
     "output_type": "stream",
     "text": [
      "<class 'str'>\n",
      "75\n",
      "<class 'int'>\n"
     ]
    }
   ],
   "source": [
    "# Explicit type conversion\n",
    "age = '75'\n",
    "print(type(age))\n",
    "new_age = int(age)\n",
    "print(new_age)  # Output: 75\n",
    "print(type(new_age))"
   ]
  },
  {
   "cell_type": "code",
   "execution_count": 4,
   "metadata": {},
   "outputs": [
    {
     "name": "stdout",
     "output_type": "stream",
     "text": [
      "(3+4j)\n",
      "<class 'complex'>\n"
     ]
    }
   ],
   "source": [
    "# Real to Complex number conversion\n",
    "real = 3\n",
    "imag = 4\n",
    "complex_num = complex(real, imag)\n",
    "print(complex_num)  # Output: (3+4j)\n",
    "print(type(complex_num))  # Output: <class 'complex'>"
   ]
  },
  {
   "cell_type": "code",
   "execution_count": 13,
   "metadata": {},
   "outputs": [
    {
     "name": "stdout",
     "output_type": "stream",
     "text": [
      "46\n",
      "0b101110\n"
     ]
    }
   ],
   "source": [
    "# binary to decimal conversion\n",
    "binary_num = 101110\n",
    "decimal_num = int(str(binary_num), 2)\n",
    "print(decimal_num)  # Output: 46\n",
    "print(bin(46))\n"
   ]
  },
  {
   "cell_type": "code",
   "execution_count": 15,
   "metadata": {},
   "outputs": [
    {
     "name": "stdout",
     "output_type": "stream",
     "text": [
      "42\n",
      "0o52\n"
     ]
    }
   ],
   "source": [
    "# octal to decimal\n",
    "octal_num = 0o52\n",
    "decimal_num = int(octal_num)\n",
    "print(decimal_num)  # Output: 42\n",
    "print(oct(42))"
   ]
  },
  {
   "cell_type": "code",
   "execution_count": 18,
   "metadata": {},
   "outputs": [
    {
     "name": "stdout",
     "output_type": "stream",
     "text": [
      "683\n",
      "0x2ab\n"
     ]
    }
   ],
   "source": [
    "# hexa decimal to decimal\n",
    "hex_num = 0x2ab\n",
    "decimal_num = int(hex_num)\n",
    "print(decimal_num)  # Output: 683\n",
    "print(hex(683))"
   ]
  },
  {
   "cell_type": "code",
   "execution_count": 20,
   "metadata": {},
   "outputs": [
    {
     "name": "stdout",
     "output_type": "stream",
     "text": [
      "65\n",
      "A\n"
     ]
    }
   ],
   "source": [
    "# Unicode conversion\n",
    "unicode_char = 'A'\n",
    "unicode_num = ord(unicode_char)\n",
    "print(unicode_num)  # Output: 65\n",
    "print(chr(65))"
   ]
  },
  {
   "cell_type": "code",
   "execution_count": null,
   "metadata": {},
   "outputs": [],
   "source": [
    "\n"
   ]
  }
 ],
 "metadata": {
  "kernelspec": {
   "display_name": "Python 3",
   "language": "python",
   "name": "python3"
  },
  "language_info": {
   "codemirror_mode": {
    "name": "ipython",
    "version": 3
   },
   "file_extension": ".py",
   "mimetype": "text/x-python",
   "name": "python",
   "nbconvert_exporter": "python",
   "pygments_lexer": "ipython3",
   "version": "3.10.12"
  }
 },
 "nbformat": 4,
 "nbformat_minor": 2
}

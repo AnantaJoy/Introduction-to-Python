{
 "cells": [
  {
   "cell_type": "code",
   "execution_count": 6,
   "metadata": {},
   "outputs": [
    {
     "name": "stdout",
     "output_type": "stream",
     "text": [
      "{'bitcoin': {'usd': 42779}}\n",
      "The current price of bitcoin is 42779 USD\n"
     ]
    }
   ],
   "source": [
    "\n",
    "import requests\n",
    "\n",
    "coin_id = 'bitcoin'\n",
    "currency = 'usd'\n",
    "url = f\"https://api.coingecko.com/api/v3/simple/price?ids={coin_id}&vs_currencies={currency}\"\n",
    "response = requests.get(url).json()\n",
    "\n",
    "print(response)\n",
    "print(f\"The current price of {coin_id} is {response[coin_id][currency]} {currency.upper()}\")\n"
   ]
  },
  {
   "cell_type": "code",
   "execution_count": 8,
   "metadata": {},
   "outputs": [
    {
     "name": "stdout",
     "output_type": "stream",
     "text": [
      "The current price of Bitcoin is 42822 USD\n",
      "The current price of Ethereum is 2308.57 USD\n"
     ]
    }
   ],
   "source": [
    "def get_coin_price(coin_id, currency):\n",
    "    url = f\"https://api.coingecko.com/api/v3/simple/price?ids={coin_id}&vs_currencies={currency}\"\n",
    "    response = requests.get(url).json()\n",
    "    return response[coin_id][currency]\n",
    "\n",
    "bitcoin = get_coin_price('bitcoin', 'usd')\n",
    "ethereum = get_coin_price('ethereum', 'usd')\n",
    "print(f\"The current price of Bitcoin is {bitcoin} USD\")\n",
    "print(f\"The current price of Ethereum is {ethereum} USD\")"
   ]
  },
  {
   "cell_type": "code",
   "execution_count": 39,
   "metadata": {},
   "outputs": [
    {
     "data": {
      "text/plain": [
       "<sqlite3.Cursor at 0x7f2ca76424c0>"
      ]
     },
     "execution_count": 39,
     "metadata": {},
     "output_type": "execute_result"
    }
   ],
   "source": [
    "import sqlite3\n",
    "\n",
    "database = sqlite3.connect('database.db')\n",
    "cursor = database.cursor()\n",
    "create_table_query = \"\"\"\n",
    "CREATE TABLE IF NOT EXISTS coins (\n",
    "    coin_id TEXT PRIMARY KEY,\n",
    "    currency TEXT,\n",
    "    sell INT,\n",
    "    amount REAL,\n",
    "    date TIMESTAMP\n",
    ");\n",
    "\"\"\"\n",
    "cursor.execute(create_table_query)"
   ]
  },
  {
   "cell_type": "code",
   "execution_count": 40,
   "metadata": {},
   "outputs": [],
   "source": [
    "import datetime\n",
    "import sqlite3\n",
    "\n",
    "conn = sqlite3.connect('database.db', timeout=10)\n",
    "cursor = conn.cursor()\n",
    "\n",
    "coins = (\"bitcoin\", \"usd\", 1, 1.0, datetime.datetime.now())\n",
    "\n",
    "cursor.execute(\n",
    "    \"INSERT INTO coins (coin_id, currency, sell, amount, date) VALUES (?, ?, ?, ?, ?)\", \n",
    "    coins\n",
    ")\n",
    "\n",
    "conn.commit()\n"
   ]
  },
  {
   "cell_type": "code",
   "execution_count": 42,
   "metadata": {},
   "outputs": [],
   "source": [
    "result = cursor.execute(\"SELECT * FROM coins\")\n",
    "all_rows = result.fetchall()"
   ]
  },
  {
   "cell_type": "code",
   "execution_count": null,
   "metadata": {},
   "outputs": [],
   "source": []
  }
 ],
 "metadata": {
  "kernelspec": {
   "display_name": "Python 3",
   "language": "python",
   "name": "python3"
  },
  "language_info": {
   "codemirror_mode": {
    "name": "ipython",
    "version": 3
   },
   "file_extension": ".py",
   "mimetype": "text/x-python",
   "name": "python",
   "nbconvert_exporter": "python",
   "pygments_lexer": "ipython3",
   "version": "3.10.12"
  }
 },
 "nbformat": 4,
 "nbformat_minor": 2
}

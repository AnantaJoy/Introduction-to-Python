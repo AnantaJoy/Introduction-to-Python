{
 "cells": [
  {
   "cell_type": "markdown",
   "metadata": {},
   "source": [
    "Certainly! Here are 15 problems covering arithmetic, operators, copying, and string manipulations:\n",
    "\n",
    "### Exercise: Arithmetic, Operators, Copying, and String Manipulations\n",
    "\n",
    "#### Arithmetic and Operators:\n",
    "\n",
    "1. **Basic Arithmetic:**\n",
    "   - Create variables `a` and `b` with numeric values. Perform addition, subtraction, multiplication, and division, and print the results.\n",
    "\n",
    "2. **Modulo Operator:**\n",
    "   - Calculate the remainder when 15 is divided by 4.\n",
    "\n",
    "3. **Power Operator:**\n",
    "   - Calculate the result of 3 raised to the power of 4.\n",
    "\n",
    "4. **Floor Division:**\n",
    "   - Perform floor division on 17 by 3.\n",
    "\n",
    "#### Copying:\n",
    "\n",
    "5. **List Copy:**\n",
    "   - Create a list of three colors. Make a copy of the list and print both the original and copied lists.\n",
    "\n",
    "6. **Shallow Copy of Nested List:**\n",
    "   - Create a nested list. Make a shallow copy of the list and print both the original and copied lists.\n",
    "\n",
    "7. **Dictionary Copy:**\n",
    "   - Create a dictionary with at least three key-value pairs. Make a copy of the dictionary and print both the original and copied dictionaries.\n",
    "\n",
    "#### String Manipulations:\n",
    "\n",
    "8. **String Concatenation:**\n",
    "   - Create two string variables, `first_name` and `last_name`, and concatenate them to form a full name.\n",
    "\n",
    "9. **String Length:**\n",
    "   - Calculate and print the length of the string \"Hello, World!\".\n",
    "\n",
    "10. **String Slicing:**\n",
    "    - Extract and print the first 5 characters from the string \"Python Programming\".\n",
    "\n",
    "11. **String Upper and Lower:**\n",
    "    - Create a string and print it in both uppercase and lowercase.\n",
    "\n",
    "12. **String Repetition:**\n",
    "    - Repeat the string \"abc\" three times and print the result.\n",
    "\n",
    "13. **String Formatting:**\n",
    "    - Use string formatting to insert values into the sentence: \"I have {} apples and {} oranges.\"\n",
    "\n",
    "14. **String Replace:**\n",
    "    - Replace all occurrences of the word \"apple\" with \"banana\" in the string \"I like apple pie and apple juice.\"\n",
    "\n",
    "15. **String Split:**\n",
    "    - Split the string \"Hello, how are you?\" into a list of words and print the list.\n",
    "\n",
    "Feel free to adapt these problems based on the specific focus or level of your Python course."
   ]
  },
  {
   "cell_type": "markdown",
   "metadata": {},
   "source": []
  }
 ],
 "metadata": {
  "language_info": {
   "name": "python"
  }
 },
 "nbformat": 4,
 "nbformat_minor": 2
}

{
 "cells": [
  {
   "cell_type": "code",
   "execution_count": 3,
   "metadata": {},
   "outputs": [
    {
     "name": "stdout",
     "output_type": "stream",
     "text": [
      "1863\n",
      "-111\n",
      "864612\n",
      "0.8875379939209727\n",
      "876\n",
      "0\n"
     ]
    }
   ],
   "source": [
    "# Operator\n",
    "# Operand\n",
    "# Expression\n",
    "\n",
    "# Arithmetic\n",
    "x = 876\n",
    "y = 987\n",
    "\n",
    "# addition\n",
    "z = x + y\n",
    "print(z)\n",
    "\n",
    "# subtraction\n",
    "print(x-y)\n",
    "\n",
    "# multiplication\n",
    "print(x*y)\n",
    "\n",
    "# division\n",
    "print(x/y)\n",
    "\n",
    "# modulus\n",
    "print(x%y)\n",
    "\n",
    "# exponent\n",
    "# print(x**y)\n",
    "\n",
    "# floor division\n",
    "print(x // y)"
   ]
  },
  {
   "cell_type": "code",
   "execution_count": 4,
   "metadata": {},
   "outputs": [
    {
     "name": "stdout",
     "output_type": "stream",
     "text": [
      "15\n",
      "False\n",
      "True\n",
      "False\n",
      "True\n",
      "False\n",
      "True\n"
     ]
    }
   ],
   "source": [
    "# Assignment \n",
    "x = 10\n",
    "x += 5\n",
    "print(x)\n",
    "\n",
    "# Comparison\n",
    "x = 10\n",
    "y = 20\n",
    "\n",
    "print(x == y)\n",
    "print(x != y)\n",
    "print(x > y)\n",
    "print(x < y)\n",
    "print(x >= y)\n",
    "print(x <= y)\n"
   ]
  },
  {
   "cell_type": "code",
   "execution_count": 5,
   "metadata": {},
   "outputs": [
    {
     "name": "stdout",
     "output_type": "stream",
     "text": [
      "False\n",
      "True\n",
      "False\n"
     ]
    }
   ],
   "source": [
    "# logical\n",
    "x = True\n",
    "y = False\n",
    "\n",
    "print(x and y)\n",
    "print(x or y)\n",
    "print(not x)\n"
   ]
  },
  {
   "cell_type": "code",
   "execution_count": 6,
   "metadata": {},
   "outputs": [
    {
     "name": "stdout",
     "output_type": "stream",
     "text": [
      "x and y refer to the same object\n"
     ]
    }
   ],
   "source": [
    "# identity operator\n",
    "x = 10\n",
    "y = 10\n",
    "\n",
    "if x is y:\n",
    "    print(\"x and y refer to the same object\")\n",
    "else:\n",
    "    print(\"x and y do not refer to the same object\")"
   ]
  },
  {
   "cell_type": "code",
   "execution_count": 8,
   "metadata": {},
   "outputs": [
    {
     "name": "stdout",
     "output_type": "stream",
     "text": [
      "x is not in y\n"
     ]
    }
   ],
   "source": [
    "# membership operator\n",
    "x = 10\n",
    "y = [1, 2, 3, 4, 5]\n",
    "\n",
    "if x in y:\n",
    "    print(\"x is in y\")\n",
    "\n",
    "if x not in y:\n",
    "    print(\"x is not in y\")"
   ]
  },
  {
   "cell_type": "code",
   "execution_count": 9,
   "metadata": {},
   "outputs": [
    {
     "name": "stdout",
     "output_type": "stream",
     "text": [
      "0\n",
      "30\n",
      "30\n",
      "-21\n",
      "80\n",
      "5\n"
     ]
    }
   ],
   "source": [
    "# bitwise operator\n",
    "x = 20\n",
    "y = 10\n",
    "\n",
    "print(x & y)\n",
    "print(x | y)\n",
    "print(x ^ y)\n",
    "print(~x)\n",
    "print(x << 2)\n",
    "print(x >> 2)"
   ]
  },
  {
   "cell_type": "code",
   "execution_count": 14,
   "metadata": {},
   "outputs": [
    {
     "name": "stdout",
     "output_type": "stream",
     "text": [
      "-10\n"
     ]
    },
    {
     "data": {
      "text/plain": [
       "'True'"
      ]
     },
     "execution_count": 14,
     "metadata": {},
     "output_type": "execute_result"
    }
   ],
   "source": [
    "# unary operator\n",
    "x = 10\n",
    "y = -x\n",
    "print(y)\n",
    "a = \"True\" if x>7 else \"False\"\n",
    "a"
   ]
  },
  {
   "cell_type": "code",
   "execution_count": 15,
   "metadata": {},
   "outputs": [
    {
     "name": "stdout",
     "output_type": "stream",
     "text": [
      "20\n"
     ]
    }
   ],
   "source": [
    "# operator precedence\n",
    "x = 10 + 5 * 2\n",
    "print(x)  # Output: 20\n"
   ]
  },
  {
   "cell_type": "code",
   "execution_count": null,
   "metadata": {},
   "outputs": [],
   "source": []
  }
 ],
 "metadata": {
  "kernelspec": {
   "display_name": "Python 3",
   "language": "python",
   "name": "python3"
  },
  "language_info": {
   "codemirror_mode": {
    "name": "ipython",
    "version": 3
   },
   "file_extension": ".py",
   "mimetype": "text/x-python",
   "name": "python",
   "nbconvert_exporter": "python",
   "pygments_lexer": "ipython3",
   "version": "3.10.12"
  }
 },
 "nbformat": 4,
 "nbformat_minor": 2
}

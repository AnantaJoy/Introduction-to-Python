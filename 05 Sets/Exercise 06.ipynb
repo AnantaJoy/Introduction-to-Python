{
 "cells": [
  {
   "cell_type": "markdown",
   "metadata": {},
   "source": [
    "### Exercise: Sets\n",
    "\n",
    "1. **Set Creation:**\n",
    "   - Create a set named `unique_numbers` with at least five different numeric values. Print the set.\n",
    "\n",
    "2. **Set Operations:**\n",
    "   - Given two sets, `set_a` and `set_b`, perform the union operation and print the result.\n",
    "\n",
    "3. **Set Modification:**\n",
    "   - Create a set of your favorite colors. Add a new color to the set and print the updated set.\n",
    "\n",
    "4. **Set Intersection:**\n",
    "   - Given two sets, `set_x` and `set_y`, find the common elements (intersection) between them and print the result.\n",
    "\n",
    "5. **Set Removal:**\n",
    "   - Create a set of programming languages. Remove one programming language from the set and print the updated set.\n",
    "\n",
    "6. **Set Difference:**\n",
    "   - Given two sets, `set_p` and `set_q`, find the elements that are unique to each set (difference) and print the results.\n",
    "\n",
    "7. **Set Comprehension:**\n",
    "   - Create a set of even numbers from 1 to 10 using set comprehension.\n",
    "\n",
    "8. **Set Symmetric Difference:**\n",
    "   - Given two sets, `set_m` and `set_n`, find the elements that are unique to each set (symmetric difference) and print the result.\n",
    "\n",
    "9. **Set Membership Check:**\n",
    "   - Create a set of prime numbers. Check if a specific number is present in the set. Print the result.\n",
    "\n",
    "10. **Set Functions:**\n",
    "    - Create two sets, `set_alpha` and `set_beta`, with at least 3 common elements. Write a function to find and print the intersection of these sets.\n",
    "\n",
    "Feel free to adapt these problems based on the specific focus or level of your Python course for sets."
   ]
  },
  {
   "cell_type": "markdown",
   "metadata": {},
   "source": []
  }
 ],
 "metadata": {
  "language_info": {
   "name": "python"
  }
 },
 "nbformat": 4,
 "nbformat_minor": 2
}

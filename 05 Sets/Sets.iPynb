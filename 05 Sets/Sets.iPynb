{
 "cells": [
  {
   "cell_type": "code",
   "execution_count": 10,
   "metadata": {},
   "outputs": [
    {
     "data": {
      "text/plain": [
       "set"
      ]
     },
     "execution_count": 10,
     "metadata": {},
     "output_type": "execute_result"
    }
   ],
   "source": [
    "# sets are unordered, unchangable, unindexed\n",
    "# Create a set using curly braces\n",
    "# don't allow duplicate value\n",
    "\n",
    "my_set = {1, 2, 3}\n",
    "\n",
    "# Create a set using the set() constructor\n",
    "my_set = set([1, 2, 3])\n",
    "type(my_set)"
   ]
  },
  {
   "cell_type": "code",
   "execution_count": 13,
   "metadata": {},
   "outputs": [
    {
     "name": "stdout",
     "output_type": "stream",
     "text": [
      "<class 'set'>\n",
      "{1, 2, 3, 4, 5}\n"
     ]
    }
   ],
   "source": [
    "\n",
    "# add() method adds an element to the set\n",
    "set1 = {1, 2, 3, 4, 5}\n",
    "set1.add(5)\n",
    "print(type(set1))\n",
    "print(set1)\n",
    "\n"
   ]
  },
  {
   "cell_type": "code",
   "execution_count": 15,
   "metadata": {},
   "outputs": [
    {
     "name": "stdout",
     "output_type": "stream",
     "text": [
      "{34, 36, 39, 40, 44, 12, 17, 50, 19}\n",
      "False\n",
      "True\n"
     ]
    }
   ],
   "source": [
    "# random numbers set between 10 to 50\n",
    "import random\n",
    "\n",
    "random_numbers = set()\n",
    "for _ in range(10):\n",
    "    random_numbers.add(random.randint(10, 50))\n",
    "\n",
    "print(random_numbers)\n",
    "print(13 in random_numbers)\n",
    "print(12 in random_numbers)"
   ]
  },
  {
   "cell_type": "code",
   "execution_count": null,
   "metadata": {},
   "outputs": [],
   "source": [
    "# access items\n",
    "# you cannot access items in a set by referring to an index or a key.\n",
    "my_set = {1, 2, 3, 4, 5}\n",
    "\n",
    "# Access items using a loop\n",
    "for item in my_set:\n",
    "    print(item)\n",
    "\n",
    "# Convert set to a list and access items by index\n",
    "my_list = list(my_set)\n",
    "print(my_list[0])  # Access first item\n",
    "print(my_list[2])  # Access third item"
   ]
  },
  {
   "cell_type": "code",
   "execution_count": 16,
   "metadata": {},
   "outputs": [
    {
     "name": "stdout",
     "output_type": "stream",
     "text": [
      "{1, 2, 3}\n"
     ]
    }
   ],
   "source": [
    "# add items to set\n",
    "my_set = set()\n",
    "\n",
    "# Add items to the set\n",
    "my_set.add(1)\n",
    "my_set.add(2)\n",
    "my_set.add(3)\n",
    "\n",
    "print(my_set)"
   ]
  },
  {
   "cell_type": "code",
   "execution_count": 18,
   "metadata": {},
   "outputs": [
    {
     "name": "stdout",
     "output_type": "stream",
     "text": [
      "{1, 'banana', 'apple', 3, 5, 7, 9, 'cherry'}\n"
     ]
    }
   ],
   "source": [
    "# update set items\n",
    "# add multiple items to a set using the update() method\n",
    "set1 = {\"apple\", \"banana\", \"cherry\"}\n",
    "set2 = {1, 5, 7, 9, 3}\n",
    "set1.update(set2)\n",
    "print(set1)"
   ]
  },
  {
   "cell_type": "code",
   "execution_count": 23,
   "metadata": {},
   "outputs": [
    {
     "name": "stdout",
     "output_type": "stream",
     "text": [
      "{1, 2, 3, 4, 5}\n"
     ]
    }
   ],
   "source": [
    "# remove a items from set\n",
    "my_set = {1, 2, 3, 4, 5}\n",
    "# my_set.remove(6) # raise error if don't exist\n",
    "my_set.discard(8)\n",
    "print(my_set)"
   ]
  },
  {
   "cell_type": "code",
   "execution_count": 24,
   "metadata": {},
   "outputs": [
    {
     "data": {
      "text/plain": [
       "1"
      ]
     },
     "execution_count": 24,
     "metadata": {},
     "output_type": "execute_result"
    }
   ],
   "source": [
    "my_set.pop()"
   ]
  },
  {
   "cell_type": "code",
   "execution_count": 26,
   "metadata": {},
   "outputs": [
    {
     "ename": "NameError",
     "evalue": "name 'my_set' is not defined",
     "output_type": "error",
     "traceback": [
      "\u001b[0;31m---------------------------------------------------------------------------\u001b[0m",
      "\u001b[0;31mNameError\u001b[0m                                 Traceback (most recent call last)",
      "\u001b[1;32m/home/ananta/Desktop/Introduction-to-Python/Sets.iPynb Cell 9\u001b[0m line \u001b[0;36m<cell line: 9>\u001b[0;34m()\u001b[0m\n\u001b[1;32m      <a href='vscode-notebook-cell:/home/ananta/Desktop/Introduction-to-Python/Sets.iPynb#X11sZmlsZQ%3D%3D?line=6'>7</a>\u001b[0m \u001b[39m# Delete the set object\u001b[39;00m\n\u001b[1;32m      <a href='vscode-notebook-cell:/home/ananta/Desktop/Introduction-to-Python/Sets.iPynb#X11sZmlsZQ%3D%3D?line=7'>8</a>\u001b[0m \u001b[39mdel\u001b[39;00m my_set\n\u001b[0;32m----> <a href='vscode-notebook-cell:/home/ananta/Desktop/Introduction-to-Python/Sets.iPynb#X11sZmlsZQ%3D%3D?line=8'>9</a>\u001b[0m \u001b[39mprint\u001b[39m(my_set)\n",
      "\u001b[0;31mNameError\u001b[0m: name 'my_set' is not defined"
     ]
    }
   ],
   "source": [
    "# clear and del\n",
    "my_set = set([1, 2, 3, 4, 5])\n",
    "\n",
    "# Clear the set\n",
    "my_set.clear()\n",
    "\n",
    "# Delete the set object\n",
    "del my_set\n",
    "# print(my_set)"
   ]
  },
  {
   "cell_type": "code",
   "execution_count": null,
   "metadata": {},
   "outputs": [],
   "source": [
    "# union of two sets\n"
   ]
  },
  {
   "cell_type": "code",
   "execution_count": null,
   "metadata": {},
   "outputs": [],
   "source": []
  }
 ],
 "metadata": {
  "kernelspec": {
   "display_name": "Python 3",
   "language": "python",
   "name": "python3"
  },
  "language_info": {
   "codemirror_mode": {
    "name": "ipython",
    "version": 3
   },
   "file_extension": ".py",
   "mimetype": "text/x-python",
   "name": "python",
   "nbconvert_exporter": "python",
   "pygments_lexer": "ipython3",
   "version": "3.10.12"
  }
 },
 "nbformat": 4,
 "nbformat_minor": 2
}
